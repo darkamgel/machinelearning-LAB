{
  "nbformat": 4,
  "nbformat_minor": 0,
  "metadata": {
    "colab": {
      "name": "Assignment-2.ipynb",
      "provenance": [],
      "collapsed_sections": []
    },
    "kernelspec": {
      "name": "python3",
      "display_name": "Python 3"
    },
    "language_info": {
      "name": "python"
    }
  },
  "cells": [
    {
      "cell_type": "markdown",
      "source": [
        "Name: Sanjeev Kumar Khatri\n",
        "\n",
        "Roll no : 23\n",
        "\n",
        "Group : CS\n",
        "\n",
        "Assignment : 02\n",
        "\n",
        "Githublink : https://github.com/darkamgel/machinelearning-LAB"
      ],
      "metadata": {
        "id": "U1sZTyk6YhaQ"
      }
    },
    {
      "cell_type": "markdown",
      "source": [
        "## Practical Assignment - 2 ##\n",
        "1. Classifying with Real world Examples \n",
        "2. The Iris dataset\n",
        "3. Building more complex classifier\n",
        "4. A more complex dataset and a more complex classifier classifying with sckit-learn\n",
        "5. Binary and multiclass classification"
      ],
      "metadata": {
        "id": "gaOsbt7VYk_6"
      }
    },
    {
      "cell_type": "markdown",
      "source": [
        "### Classifying with Real world Examples ### \n",
        "\n",
        "* what classification is\n",
        "* How Scikit-learn can be used for classification and which classifier is a goof solution for most problems\n",
        "* How to strictly evaluate a classifier and avoid fooling ourselves"
      ],
      "metadata": {
        "id": "3-2OhqpTZnBR"
      }
    },
    {
      "cell_type": "code",
      "source": [
        "import sys\n",
        "sys.version"
      ],
      "metadata": {
        "colab": {
          "base_uri": "https://localhost:8080/",
          "height": 37
        },
        "id": "DZJgvbsvYkRV",
        "outputId": "78398d95-dd8b-4e94-d1a1-87ad7027d294"
      },
      "execution_count": 1,
      "outputs": [
        {
          "output_type": "execute_result",
          "data": {
            "text/plain": [
              "'3.7.13 (default, Apr 24 2022, 01:04:09) \\n[GCC 7.5.0]'"
            ],
            "application/vnd.google.colaboratory.intrinsic+json": {
              "type": "string"
            }
          },
          "metadata": {},
          "execution_count": 1
        }
      ]
    },
    {
      "cell_type": "code",
      "source": [
        "# importing pandas matplotlib and numpy\n",
        "import pandas as pd\n",
        "import numpy as np\n",
        "import matplotlib.pyplot as plt"
      ],
      "metadata": {
        "id": "hqRgfxHxaEBq"
      },
      "execution_count": 2,
      "outputs": []
    },
    {
      "cell_type": "markdown",
      "source": [
        "### Knowing the Data i.e `The Iris Dataset ` ###\n",
        "\n",
        "This dataset a collection of morphological measurement of several iris flower. These measurement will enable us to distinguish multiple sepcies of flower.\n",
        "\n",
        "The following four attributes of each plant were measured:\n",
        "* Sepal length\n",
        "* Sepal width\n",
        "* Petal length\n",
        "* Petal width\n",
        "\n"
      ],
      "metadata": {
        "id": "ttePEWEYaV26"
      }
    },
    {
      "cell_type": "code",
      "source": [
        "# importing Iris Dataset\n",
        "from sklearn.datasets import load_iris\n",
        "data = load_iris()\n",
        "data"
      ],
      "metadata": {
        "colab": {
          "base_uri": "https://localhost:8080/"
        },
        "id": "cK60HKk3aRbS",
        "outputId": "6f7aafdf-cee7-406f-d289-7aecc55ad314"
      },
      "execution_count": 3,
      "outputs": [
        {
          "output_type": "execute_result",
          "data": {
            "text/plain": [
              "{'DESCR': '.. _iris_dataset:\\n\\nIris plants dataset\\n--------------------\\n\\n**Data Set Characteristics:**\\n\\n    :Number of Instances: 150 (50 in each of three classes)\\n    :Number of Attributes: 4 numeric, predictive attributes and the class\\n    :Attribute Information:\\n        - sepal length in cm\\n        - sepal width in cm\\n        - petal length in cm\\n        - petal width in cm\\n        - class:\\n                - Iris-Setosa\\n                - Iris-Versicolour\\n                - Iris-Virginica\\n                \\n    :Summary Statistics:\\n\\n    ============== ==== ==== ======= ===== ====================\\n                    Min  Max   Mean    SD   Class Correlation\\n    ============== ==== ==== ======= ===== ====================\\n    sepal length:   4.3  7.9   5.84   0.83    0.7826\\n    sepal width:    2.0  4.4   3.05   0.43   -0.4194\\n    petal length:   1.0  6.9   3.76   1.76    0.9490  (high!)\\n    petal width:    0.1  2.5   1.20   0.76    0.9565  (high!)\\n    ============== ==== ==== ======= ===== ====================\\n\\n    :Missing Attribute Values: None\\n    :Class Distribution: 33.3% for each of 3 classes.\\n    :Creator: R.A. Fisher\\n    :Donor: Michael Marshall (MARSHALL%PLU@io.arc.nasa.gov)\\n    :Date: July, 1988\\n\\nThe famous Iris database, first used by Sir R.A. Fisher. The dataset is taken\\nfrom Fisher\\'s paper. Note that it\\'s the same as in R, but not as in the UCI\\nMachine Learning Repository, which has two wrong data points.\\n\\nThis is perhaps the best known database to be found in the\\npattern recognition literature.  Fisher\\'s paper is a classic in the field and\\nis referenced frequently to this day.  (See Duda & Hart, for example.)  The\\ndata set contains 3 classes of 50 instances each, where each class refers to a\\ntype of iris plant.  One class is linearly separable from the other 2; the\\nlatter are NOT linearly separable from each other.\\n\\n.. topic:: References\\n\\n   - Fisher, R.A. \"The use of multiple measurements in taxonomic problems\"\\n     Annual Eugenics, 7, Part II, 179-188 (1936); also in \"Contributions to\\n     Mathematical Statistics\" (John Wiley, NY, 1950).\\n   - Duda, R.O., & Hart, P.E. (1973) Pattern Classification and Scene Analysis.\\n     (Q327.D83) John Wiley & Sons.  ISBN 0-471-22361-1.  See page 218.\\n   - Dasarathy, B.V. (1980) \"Nosing Around the Neighborhood: A New System\\n     Structure and Classification Rule for Recognition in Partially Exposed\\n     Environments\".  IEEE Transactions on Pattern Analysis and Machine\\n     Intelligence, Vol. PAMI-2, No. 1, 67-71.\\n   - Gates, G.W. (1972) \"The Reduced Nearest Neighbor Rule\".  IEEE Transactions\\n     on Information Theory, May 1972, 431-433.\\n   - See also: 1988 MLC Proceedings, 54-64.  Cheeseman et al\"s AUTOCLASS II\\n     conceptual clustering system finds 3 classes in the data.\\n   - Many, many more ...',\n",
              " 'data': array([[5.1, 3.5, 1.4, 0.2],\n",
              "        [4.9, 3. , 1.4, 0.2],\n",
              "        [4.7, 3.2, 1.3, 0.2],\n",
              "        [4.6, 3.1, 1.5, 0.2],\n",
              "        [5. , 3.6, 1.4, 0.2],\n",
              "        [5.4, 3.9, 1.7, 0.4],\n",
              "        [4.6, 3.4, 1.4, 0.3],\n",
              "        [5. , 3.4, 1.5, 0.2],\n",
              "        [4.4, 2.9, 1.4, 0.2],\n",
              "        [4.9, 3.1, 1.5, 0.1],\n",
              "        [5.4, 3.7, 1.5, 0.2],\n",
              "        [4.8, 3.4, 1.6, 0.2],\n",
              "        [4.8, 3. , 1.4, 0.1],\n",
              "        [4.3, 3. , 1.1, 0.1],\n",
              "        [5.8, 4. , 1.2, 0.2],\n",
              "        [5.7, 4.4, 1.5, 0.4],\n",
              "        [5.4, 3.9, 1.3, 0.4],\n",
              "        [5.1, 3.5, 1.4, 0.3],\n",
              "        [5.7, 3.8, 1.7, 0.3],\n",
              "        [5.1, 3.8, 1.5, 0.3],\n",
              "        [5.4, 3.4, 1.7, 0.2],\n",
              "        [5.1, 3.7, 1.5, 0.4],\n",
              "        [4.6, 3.6, 1. , 0.2],\n",
              "        [5.1, 3.3, 1.7, 0.5],\n",
              "        [4.8, 3.4, 1.9, 0.2],\n",
              "        [5. , 3. , 1.6, 0.2],\n",
              "        [5. , 3.4, 1.6, 0.4],\n",
              "        [5.2, 3.5, 1.5, 0.2],\n",
              "        [5.2, 3.4, 1.4, 0.2],\n",
              "        [4.7, 3.2, 1.6, 0.2],\n",
              "        [4.8, 3.1, 1.6, 0.2],\n",
              "        [5.4, 3.4, 1.5, 0.4],\n",
              "        [5.2, 4.1, 1.5, 0.1],\n",
              "        [5.5, 4.2, 1.4, 0.2],\n",
              "        [4.9, 3.1, 1.5, 0.2],\n",
              "        [5. , 3.2, 1.2, 0.2],\n",
              "        [5.5, 3.5, 1.3, 0.2],\n",
              "        [4.9, 3.6, 1.4, 0.1],\n",
              "        [4.4, 3. , 1.3, 0.2],\n",
              "        [5.1, 3.4, 1.5, 0.2],\n",
              "        [5. , 3.5, 1.3, 0.3],\n",
              "        [4.5, 2.3, 1.3, 0.3],\n",
              "        [4.4, 3.2, 1.3, 0.2],\n",
              "        [5. , 3.5, 1.6, 0.6],\n",
              "        [5.1, 3.8, 1.9, 0.4],\n",
              "        [4.8, 3. , 1.4, 0.3],\n",
              "        [5.1, 3.8, 1.6, 0.2],\n",
              "        [4.6, 3.2, 1.4, 0.2],\n",
              "        [5.3, 3.7, 1.5, 0.2],\n",
              "        [5. , 3.3, 1.4, 0.2],\n",
              "        [7. , 3.2, 4.7, 1.4],\n",
              "        [6.4, 3.2, 4.5, 1.5],\n",
              "        [6.9, 3.1, 4.9, 1.5],\n",
              "        [5.5, 2.3, 4. , 1.3],\n",
              "        [6.5, 2.8, 4.6, 1.5],\n",
              "        [5.7, 2.8, 4.5, 1.3],\n",
              "        [6.3, 3.3, 4.7, 1.6],\n",
              "        [4.9, 2.4, 3.3, 1. ],\n",
              "        [6.6, 2.9, 4.6, 1.3],\n",
              "        [5.2, 2.7, 3.9, 1.4],\n",
              "        [5. , 2. , 3.5, 1. ],\n",
              "        [5.9, 3. , 4.2, 1.5],\n",
              "        [6. , 2.2, 4. , 1. ],\n",
              "        [6.1, 2.9, 4.7, 1.4],\n",
              "        [5.6, 2.9, 3.6, 1.3],\n",
              "        [6.7, 3.1, 4.4, 1.4],\n",
              "        [5.6, 3. , 4.5, 1.5],\n",
              "        [5.8, 2.7, 4.1, 1. ],\n",
              "        [6.2, 2.2, 4.5, 1.5],\n",
              "        [5.6, 2.5, 3.9, 1.1],\n",
              "        [5.9, 3.2, 4.8, 1.8],\n",
              "        [6.1, 2.8, 4. , 1.3],\n",
              "        [6.3, 2.5, 4.9, 1.5],\n",
              "        [6.1, 2.8, 4.7, 1.2],\n",
              "        [6.4, 2.9, 4.3, 1.3],\n",
              "        [6.6, 3. , 4.4, 1.4],\n",
              "        [6.8, 2.8, 4.8, 1.4],\n",
              "        [6.7, 3. , 5. , 1.7],\n",
              "        [6. , 2.9, 4.5, 1.5],\n",
              "        [5.7, 2.6, 3.5, 1. ],\n",
              "        [5.5, 2.4, 3.8, 1.1],\n",
              "        [5.5, 2.4, 3.7, 1. ],\n",
              "        [5.8, 2.7, 3.9, 1.2],\n",
              "        [6. , 2.7, 5.1, 1.6],\n",
              "        [5.4, 3. , 4.5, 1.5],\n",
              "        [6. , 3.4, 4.5, 1.6],\n",
              "        [6.7, 3.1, 4.7, 1.5],\n",
              "        [6.3, 2.3, 4.4, 1.3],\n",
              "        [5.6, 3. , 4.1, 1.3],\n",
              "        [5.5, 2.5, 4. , 1.3],\n",
              "        [5.5, 2.6, 4.4, 1.2],\n",
              "        [6.1, 3. , 4.6, 1.4],\n",
              "        [5.8, 2.6, 4. , 1.2],\n",
              "        [5. , 2.3, 3.3, 1. ],\n",
              "        [5.6, 2.7, 4.2, 1.3],\n",
              "        [5.7, 3. , 4.2, 1.2],\n",
              "        [5.7, 2.9, 4.2, 1.3],\n",
              "        [6.2, 2.9, 4.3, 1.3],\n",
              "        [5.1, 2.5, 3. , 1.1],\n",
              "        [5.7, 2.8, 4.1, 1.3],\n",
              "        [6.3, 3.3, 6. , 2.5],\n",
              "        [5.8, 2.7, 5.1, 1.9],\n",
              "        [7.1, 3. , 5.9, 2.1],\n",
              "        [6.3, 2.9, 5.6, 1.8],\n",
              "        [6.5, 3. , 5.8, 2.2],\n",
              "        [7.6, 3. , 6.6, 2.1],\n",
              "        [4.9, 2.5, 4.5, 1.7],\n",
              "        [7.3, 2.9, 6.3, 1.8],\n",
              "        [6.7, 2.5, 5.8, 1.8],\n",
              "        [7.2, 3.6, 6.1, 2.5],\n",
              "        [6.5, 3.2, 5.1, 2. ],\n",
              "        [6.4, 2.7, 5.3, 1.9],\n",
              "        [6.8, 3. , 5.5, 2.1],\n",
              "        [5.7, 2.5, 5. , 2. ],\n",
              "        [5.8, 2.8, 5.1, 2.4],\n",
              "        [6.4, 3.2, 5.3, 2.3],\n",
              "        [6.5, 3. , 5.5, 1.8],\n",
              "        [7.7, 3.8, 6.7, 2.2],\n",
              "        [7.7, 2.6, 6.9, 2.3],\n",
              "        [6. , 2.2, 5. , 1.5],\n",
              "        [6.9, 3.2, 5.7, 2.3],\n",
              "        [5.6, 2.8, 4.9, 2. ],\n",
              "        [7.7, 2.8, 6.7, 2. ],\n",
              "        [6.3, 2.7, 4.9, 1.8],\n",
              "        [6.7, 3.3, 5.7, 2.1],\n",
              "        [7.2, 3.2, 6. , 1.8],\n",
              "        [6.2, 2.8, 4.8, 1.8],\n",
              "        [6.1, 3. , 4.9, 1.8],\n",
              "        [6.4, 2.8, 5.6, 2.1],\n",
              "        [7.2, 3. , 5.8, 1.6],\n",
              "        [7.4, 2.8, 6.1, 1.9],\n",
              "        [7.9, 3.8, 6.4, 2. ],\n",
              "        [6.4, 2.8, 5.6, 2.2],\n",
              "        [6.3, 2.8, 5.1, 1.5],\n",
              "        [6.1, 2.6, 5.6, 1.4],\n",
              "        [7.7, 3. , 6.1, 2.3],\n",
              "        [6.3, 3.4, 5.6, 2.4],\n",
              "        [6.4, 3.1, 5.5, 1.8],\n",
              "        [6. , 3. , 4.8, 1.8],\n",
              "        [6.9, 3.1, 5.4, 2.1],\n",
              "        [6.7, 3.1, 5.6, 2.4],\n",
              "        [6.9, 3.1, 5.1, 2.3],\n",
              "        [5.8, 2.7, 5.1, 1.9],\n",
              "        [6.8, 3.2, 5.9, 2.3],\n",
              "        [6.7, 3.3, 5.7, 2.5],\n",
              "        [6.7, 3. , 5.2, 2.3],\n",
              "        [6.3, 2.5, 5. , 1.9],\n",
              "        [6.5, 3. , 5.2, 2. ],\n",
              "        [6.2, 3.4, 5.4, 2.3],\n",
              "        [5.9, 3. , 5.1, 1.8]]),\n",
              " 'data_module': 'sklearn.datasets.data',\n",
              " 'feature_names': ['sepal length (cm)',\n",
              "  'sepal width (cm)',\n",
              "  'petal length (cm)',\n",
              "  'petal width (cm)'],\n",
              " 'filename': 'iris.csv',\n",
              " 'frame': None,\n",
              " 'target': array([0, 0, 0, 0, 0, 0, 0, 0, 0, 0, 0, 0, 0, 0, 0, 0, 0, 0, 0, 0, 0, 0,\n",
              "        0, 0, 0, 0, 0, 0, 0, 0, 0, 0, 0, 0, 0, 0, 0, 0, 0, 0, 0, 0, 0, 0,\n",
              "        0, 0, 0, 0, 0, 0, 1, 1, 1, 1, 1, 1, 1, 1, 1, 1, 1, 1, 1, 1, 1, 1,\n",
              "        1, 1, 1, 1, 1, 1, 1, 1, 1, 1, 1, 1, 1, 1, 1, 1, 1, 1, 1, 1, 1, 1,\n",
              "        1, 1, 1, 1, 1, 1, 1, 1, 1, 1, 1, 1, 2, 2, 2, 2, 2, 2, 2, 2, 2, 2,\n",
              "        2, 2, 2, 2, 2, 2, 2, 2, 2, 2, 2, 2, 2, 2, 2, 2, 2, 2, 2, 2, 2, 2,\n",
              "        2, 2, 2, 2, 2, 2, 2, 2, 2, 2, 2, 2, 2, 2, 2, 2, 2, 2]),\n",
              " 'target_names': array(['setosa', 'versicolor', 'virginica'], dtype='<U10')}"
            ]
          },
          "metadata": {},
          "execution_count": 3
        }
      ]
    },
    {
      "cell_type": "code",
      "source": [
        "features = data.data\n",
        "feature_names = data.feature_names\n",
        "target = data.target\n",
        "target_names = data.target_names\n",
        "labels = target_names[target] "
      ],
      "metadata": {
        "id": "Pd8ndGYMbd2W"
      },
      "execution_count": 4,
      "outputs": []
    },
    {
      "cell_type": "markdown",
      "source": [
        "#### Visulaizing the give data set "
      ],
      "metadata": {
        "id": "lPDkrsTucglb"
      }
    },
    {
      "cell_type": "code",
      "source": [
        "from matplotlib.pyplot import figure\n",
        "\n",
        "\n",
        "fig , axes = plt.subplots(2,3) # 2 columns and 3 rows in figure\n",
        "fig.set_size_inches(12, 6)\n",
        "pairs = [(0,1) , (0,2) ,(0,3) , (1,2) , (1,3) , (2,3)]\n",
        "\n",
        "# different colors lists\n",
        "color_markers = [\n",
        "                 ('r' , '>'),\n",
        "                 ('g' , 'o'),\n",
        "                 ('b' , 'x'),\n",
        "                 ]\n",
        "\n",
        "for i , (p0 , p1) in enumerate(pairs):\n",
        "  ax = axes.flat[i]\n",
        "\n",
        "  for t in range(3):\n",
        "    c,marker = color_markers[t]\n",
        "    ax.scatter(features[target == t , p0],\n",
        "               features[target == t ,p1],\n",
        "               marker = marker,\n",
        "               c = c\n",
        "               )\n",
        "    ax.set_xlabel(feature_names[p0])\n",
        "    ax.set_ylabel(feature_names[p1])\n",
        "    ax.set_xticks([])\n",
        "    ax.set_yticks([])\n",
        "\n",
        "\n",
        "fig.tight_layout()"
      ],
      "metadata": {
        "colab": {
          "base_uri": "https://localhost:8080/",
          "height": 441
        },
        "id": "ZoWtbBLAbxhi",
        "outputId": "667b364d-50fa-4bf7-f756-447eac8b025f"
      },
      "execution_count": 5,
      "outputs": [
        {
          "output_type": "display_data",
          "data": {
            "text/plain": [
              "<Figure size 864x432 with 6 Axes>"
            ],
            "image/png": "[encoded data removed]"
          },
          "metadata": {}
        }
      ]
    },
    {
      "cell_type": "markdown",
      "source": [
        "### Classifying with the scikit-learn ###\n",
        "> scikit-learn has become the standard library for many machine learning tasks, including classification\n",
        "\n",
        "> we are going to use its implementation of decison trees.\n"
      ],
      "metadata": {
        "id": "loCDDgstfz0Z"
      }
    },
    {
      "cell_type": "code",
      "source": [
        "from sklearn import tree\n",
        "tr = tree.DecisionTreeClassifier(min_samples_leaf = 10)\n",
        "tr.fit(features,labels)"
      ],
      "metadata": {
        "colab": {
          "base_uri": "https://localhost:8080/"
        },
        "id": "EU5txCRbdVuk",
        "outputId": "cb2a3aac-cd35-4875-ba06-d1b5f0801ac2"
      },
      "execution_count": 6,
      "outputs": [
        {
          "output_type": "execute_result",
          "data": {
            "text/plain": [
              "DecisionTreeClassifier(min_samples_leaf=10)"
            ]
          },
          "metadata": {},
          "execution_count": 6
        }
      ]
    },
    {
      "cell_type": "code",
      "source": [
        "import graphviz\n",
        "tree.export_graphviz(tr , feature_names = feature_names , rounded = True , out_file = 'decision.dot')\n",
        "\n",
        "graphviz.Source(open('decision.dot').read())"
      ],
      "metadata": {
        "colab": {
          "base_uri": "https://localhost:8080/",
          "height": 657
        },
        "id": "90kJCUhchYQe",
        "outputId": "670c3551-424c-4bf6-8390-3c30a4aff490"
      },
      "execution_count": 7,
      "outputs": [
        {
          "output_type": "execute_result",
          "data": {
            "text/plain": [
              "<graphviz.files.Source at 0x7f3ebebca610>"
            ],
            "image/svg+xml": "<?xml version=\"1.0\" encoding=\"UTF-8\" standalone=\"no\"?>\n<!DOCTYPE svg PUBLIC \"-//W3C//DTD SVG 1.1//EN\"\n \"http://www.w3.org/Graphics/SVG/1.1/DTD/svg11.dtd\">\n<!-- Generated by graphviz version 2.40.1 (20161225.0304)\n -->\n<!-- Title: Tree Pages: 1 -->\n<svg width=\"678pt\" height=\"477pt\"\n viewBox=\"0.00 0.00 678.00 477.00\" xmlns=\"http://www.w3.org/2000/svg\" xmlns:xlink=\"http://www.w3.org/1999/xlink\">\n<g id=\"graph0\" class=\"graph\" transform=\"scale(1 1) rotate(0) translate(4 473)\">\n<title>Tree</title>\n<polygon fill=\"#ffffff\" stroke=\"transparent\" points=\"-4,4 -4,-473 674,-473 674,4 -4,4\"/>\n<!-- 0 -->\n<g id=\"node1\" class=\"node\">\n<title>0</title>\n<path fill=\"none\" stroke=\"#000000\" d=\"M376.5,-469C376.5,-469 224.5,-469 224.5,-469 218.5,-469 212.5,-463 212.5,-457 212.5,-457 212.5,-413 212.5,-413 212.5,-407 218.5,-401 224.5,-401 224.5,-401 376.5,-401 376.5,-401 382.5,-401 388.5,-407 388.5,-413 388.5,-413 388.5,-457 388.5,-457 388.5,-463 382.5,-469 376.5,-469\"/>\n<text text-anchor=\"middle\" x=\"300.5\" y=\"-453.8\" font-family=\"Helvetica,sans-Serif\" font-size=\"14.00\" fill=\"#000000\">petal length (cm) &lt;= 2.45</text>\n<text text-anchor=\"middle\" x=\"300.5\" y=\"-438.8\" font-family=\"Helvetica,sans-Serif\" font-size=\"14.00\" fill=\"#000000\">gini = 0.667</text>\n<text text-anchor=\"middle\" x=\"300.5\" y=\"-423.8\" font-family=\"Helvetica,sans-Serif\" font-size=\"14.00\" fill=\"#000000\">samples = 150</text>\n<text text-anchor=\"middle\" x=\"300.5\" y=\"-408.8\" font-family=\"Helvetica,sans-Serif\" font-size=\"14.00\" fill=\"#000000\">value = [50, 50, 50]</text>\n</g>\n<!-- 1 -->\n<g id=\"node2\" class=\"node\">\n<title>1</title>\n<path fill=\"none\" stroke=\"#000000\" d=\"M268,-357.5C268,-357.5 169,-357.5 169,-357.5 163,-357.5 157,-351.5 157,-345.5 157,-345.5 157,-316.5 157,-316.5 157,-310.5 163,-304.5 169,-304.5 169,-304.5 268,-304.5 268,-304.5 274,-304.5 280,-310.5 280,-316.5 280,-316.5 280,-345.5 280,-345.5 280,-351.5 274,-357.5 268,-357.5\"/>\n<text text-anchor=\"middle\" x=\"218.5\" y=\"-342.3\" font-family=\"Helvetica,sans-Serif\" font-size=\"14.00\" fill=\"#000000\">gini = 0.0</text>\n<text text-anchor=\"middle\" x=\"218.5\" y=\"-327.3\" font-family=\"Helvetica,sans-Serif\" font-size=\"14.00\" fill=\"#000000\">samples = 50</text>\n<text text-anchor=\"middle\" x=\"218.5\" y=\"-312.3\" font-family=\"Helvetica,sans-Serif\" font-size=\"14.00\" fill=\"#000000\">value = [50, 0, 0]</text>\n</g>\n<!-- 0&#45;&gt;1 -->\n<g id=\"edge1\" class=\"edge\">\n<title>0&#45;&gt;1</title>\n<path fill=\"none\" stroke=\"#000000\" d=\"M273.6501,-400.9465C264.7048,-389.6012 254.7351,-376.9567 245.759,-365.5724\"/>\n<polygon fill=\"#000000\" stroke=\"#000000\" points=\"248.3675,-363.2278 239.4275,-357.5422 242.8706,-367.5619 248.3675,-363.2278\"/>\n<text text-anchor=\"middle\" x=\"236.491\" y=\"-378.6691\" font-family=\"Helvetica,sans-Serif\" font-size=\"14.00\" fill=\"#000000\">True</text>\n</g>\n<!-- 2 -->\n<g id=\"node3\" class=\"node\">\n<title>2</title>\n<path fill=\"none\" stroke=\"#000000\" d=\"M456.5,-365C456.5,-365 310.5,-365 310.5,-365 304.5,-365 298.5,-359 298.5,-353 298.5,-353 298.5,-309 298.5,-309 298.5,-303 304.5,-297 310.5,-297 310.5,-297 456.5,-297 456.5,-297 462.5,-297 468.5,-303 468.5,-309 468.5,-309 468.5,-353 468.5,-353 468.5,-359 462.5,-365 456.5,-365\"/>\n<text text-anchor=\"middle\" x=\"383.5\" y=\"-349.8\" font-family=\"Helvetica,sans-Serif\" font-size=\"14.00\" fill=\"#000000\">petal width (cm) &lt;= 1.75</text>\n<text text-anchor=\"middle\" x=\"383.5\" y=\"-334.8\" font-family=\"Helvetica,sans-Serif\" font-size=\"14.00\" fill=\"#000000\">gini = 0.5</text>\n<text text-anchor=\"middle\" x=\"383.5\" y=\"-319.8\" font-family=\"Helvetica,sans-Serif\" font-size=\"14.00\" fill=\"#000000\">samples = 100</text>\n<text text-anchor=\"middle\" x=\"383.5\" y=\"-304.8\" font-family=\"Helvetica,sans-Serif\" font-size=\"14.00\" fill=\"#000000\">value = [0, 50, 50]</text>\n</g>\n<!-- 0&#45;&gt;2 -->\n<g id=\"edge2\" class=\"edge\">\n<title>0&#45;&gt;2</title>\n<path fill=\"none\" stroke=\"#000000\" d=\"M327.6773,-400.9465C334.7712,-392.0578 342.5015,-382.3716 349.886,-373.1188\"/>\n<polygon fill=\"#000000\" stroke=\"#000000\" points=\"352.7594,-375.1293 356.2616,-365.13 347.2882,-370.7628 352.7594,-375.1293\"/>\n<text text-anchor=\"middle\" x=\"359.0516\" y=\"-386.2738\" font-family=\"Helvetica,sans-Serif\" font-size=\"14.00\" fill=\"#000000\">False</text>\n</g>\n<!-- 3 -->\n<g id=\"node4\" class=\"node\">\n<title>3</title>\n<path fill=\"none\" stroke=\"#000000\" d=\"M361.5,-261C361.5,-261 209.5,-261 209.5,-261 203.5,-261 197.5,-255 197.5,-249 197.5,-249 197.5,-205 197.5,-205 197.5,-199 203.5,-193 209.5,-193 209.5,-193 361.5,-193 361.5,-193 367.5,-193 373.5,-199 373.5,-205 373.5,-205 373.5,-249 373.5,-249 373.5,-255 367.5,-261 361.5,-261\"/>\n<text text-anchor=\"middle\" x=\"285.5\" y=\"-245.8\" font-family=\"Helvetica,sans-Serif\" font-size=\"14.00\" fill=\"#000000\">petal length (cm) &lt;= 4.65</text>\n<text text-anchor=\"middle\" x=\"285.5\" y=\"-230.8\" font-family=\"Helvetica,sans-Serif\" font-size=\"14.00\" fill=\"#000000\">gini = 0.168</text>\n<text text-anchor=\"middle\" x=\"285.5\" y=\"-215.8\" font-family=\"Helvetica,sans-Serif\" font-size=\"14.00\" fill=\"#000000\">samples = 54</text>\n<text text-anchor=\"middle\" x=\"285.5\" y=\"-200.8\" font-family=\"Helvetica,sans-Serif\" font-size=\"14.00\" fill=\"#000000\">value = [0, 49, 5]</text>\n</g>\n<!-- 2&#45;&gt;3 -->\n<g id=\"edge3\" class=\"edge\">\n<title>2&#45;&gt;3</title>\n<path fill=\"none\" stroke=\"#000000\" d=\"M351.4111,-296.9465C342.866,-287.8782 333.5387,-277.9799 324.6609,-268.5585\"/>\n<polygon fill=\"#000000\" stroke=\"#000000\" points=\"327.0663,-266.0076 317.661,-261.13 321.9717,-270.8082 327.0663,-266.0076\"/>\n</g>\n<!-- 8 -->\n<g id=\"node9\" class=\"node\">\n<title>8</title>\n<path fill=\"none\" stroke=\"#000000\" d=\"M559.5,-261C559.5,-261 403.5,-261 403.5,-261 397.5,-261 391.5,-255 391.5,-249 391.5,-249 391.5,-205 391.5,-205 391.5,-199 397.5,-193 403.5,-193 403.5,-193 559.5,-193 559.5,-193 565.5,-193 571.5,-199 571.5,-205 571.5,-205 571.5,-249 571.5,-249 571.5,-255 565.5,-261 559.5,-261\"/>\n<text text-anchor=\"middle\" x=\"481.5\" y=\"-245.8\" font-family=\"Helvetica,sans-Serif\" font-size=\"14.00\" fill=\"#000000\">sepal length (cm) &lt;= 6.25</text>\n<text text-anchor=\"middle\" x=\"481.5\" y=\"-230.8\" font-family=\"Helvetica,sans-Serif\" font-size=\"14.00\" fill=\"#000000\">gini = 0.043</text>\n<text text-anchor=\"middle\" x=\"481.5\" y=\"-215.8\" font-family=\"Helvetica,sans-Serif\" font-size=\"14.00\" fill=\"#000000\">samples = 46</text>\n<text text-anchor=\"middle\" x=\"481.5\" y=\"-200.8\" font-family=\"Helvetica,sans-Serif\" font-size=\"14.00\" fill=\"#000000\">value = [0, 1, 45]</text>\n</g>\n<!-- 2&#45;&gt;8 -->\n<g id=\"edge8\" class=\"edge\">\n<title>2&#45;&gt;8</title>\n<path fill=\"none\" stroke=\"#000000\" d=\"M415.5889,-296.9465C424.134,-287.8782 433.4613,-277.9799 442.3391,-268.5585\"/>\n<polygon fill=\"#000000\" stroke=\"#000000\" points=\"445.0283,-270.8082 449.339,-261.13 439.9337,-266.0076 445.0283,-270.8082\"/>\n</g>\n<!-- 4 -->\n<g id=\"node5\" class=\"node\">\n<title>4</title>\n<path fill=\"none\" stroke=\"#000000\" d=\"M207.5,-157C207.5,-157 55.5,-157 55.5,-157 49.5,-157 43.5,-151 43.5,-145 43.5,-145 43.5,-101 43.5,-101 43.5,-95 49.5,-89 55.5,-89 55.5,-89 207.5,-89 207.5,-89 213.5,-89 219.5,-95 219.5,-101 219.5,-101 219.5,-145 219.5,-145 219.5,-151 213.5,-157 207.5,-157\"/>\n<text text-anchor=\"middle\" x=\"131.5\" y=\"-141.8\" font-family=\"Helvetica,sans-Serif\" font-size=\"14.00\" fill=\"#000000\">petal length (cm) &lt;= 4.45</text>\n<text text-anchor=\"middle\" x=\"131.5\" y=\"-126.8\" font-family=\"Helvetica,sans-Serif\" font-size=\"14.00\" fill=\"#000000\">gini = 0.049</text>\n<text text-anchor=\"middle\" x=\"131.5\" y=\"-111.8\" font-family=\"Helvetica,sans-Serif\" font-size=\"14.00\" fill=\"#000000\">samples = 40</text>\n<text text-anchor=\"middle\" x=\"131.5\" y=\"-96.8\" font-family=\"Helvetica,sans-Serif\" font-size=\"14.00\" fill=\"#000000\">value = [0, 39, 1]</text>\n</g>\n<!-- 3&#45;&gt;4 -->\n<g id=\"edge4\" class=\"edge\">\n<title>3&#45;&gt;4</title>\n<path fill=\"none\" stroke=\"#000000\" d=\"M235.0746,-192.9465C220.8488,-183.3395 205.2437,-172.8009 190.5602,-162.8848\"/>\n<polygon fill=\"#000000\" stroke=\"#000000\" points=\"192.2847,-159.8261 182.0386,-157.13 188.3671,-165.6272 192.2847,-159.8261\"/>\n</g>\n<!-- 7 -->\n<g id=\"node8\" class=\"node\">\n<title>7</title>\n<path fill=\"none\" stroke=\"#000000\" d=\"M349,-149.5C349,-149.5 250,-149.5 250,-149.5 244,-149.5 238,-143.5 238,-137.5 238,-137.5 238,-108.5 238,-108.5 238,-102.5 244,-96.5 250,-96.5 250,-96.5 349,-96.5 349,-96.5 355,-96.5 361,-102.5 361,-108.5 361,-108.5 361,-137.5 361,-137.5 361,-143.5 355,-149.5 349,-149.5\"/>\n<text text-anchor=\"middle\" x=\"299.5\" y=\"-134.3\" font-family=\"Helvetica,sans-Serif\" font-size=\"14.00\" fill=\"#000000\">gini = 0.408</text>\n<text text-anchor=\"middle\" x=\"299.5\" y=\"-119.3\" font-family=\"Helvetica,sans-Serif\" font-size=\"14.00\" fill=\"#000000\">samples = 14</text>\n<text text-anchor=\"middle\" x=\"299.5\" y=\"-104.3\" font-family=\"Helvetica,sans-Serif\" font-size=\"14.00\" fill=\"#000000\">value = [0, 10, 4]</text>\n</g>\n<!-- 3&#45;&gt;7 -->\n<g id=\"edge7\" class=\"edge\">\n<title>3&#45;&gt;7</title>\n<path fill=\"none\" stroke=\"#000000\" d=\"M290.0841,-192.9465C291.5224,-182.2621 293.1158,-170.4254 294.5765,-159.5742\"/>\n<polygon fill=\"#000000\" stroke=\"#000000\" points=\"298.0615,-159.9197 295.927,-149.5422 291.1241,-158.9858 298.0615,-159.9197\"/>\n</g>\n<!-- 5 -->\n<g id=\"node6\" class=\"node\">\n<title>5</title>\n<path fill=\"none\" stroke=\"#000000\" d=\"M111,-53C111,-53 12,-53 12,-53 6,-53 0,-47 0,-41 0,-41 0,-12 0,-12 0,-6 6,0 12,0 12,0 111,0 111,0 117,0 123,-6 123,-12 123,-12 123,-41 123,-41 123,-47 117,-53 111,-53\"/>\n<text text-anchor=\"middle\" x=\"61.5\" y=\"-37.8\" font-family=\"Helvetica,sans-Serif\" font-size=\"14.00\" fill=\"#000000\">gini = 0.0</text>\n<text text-anchor=\"middle\" x=\"61.5\" y=\"-22.8\" font-family=\"Helvetica,sans-Serif\" font-size=\"14.00\" fill=\"#000000\">samples = 29</text>\n<text text-anchor=\"middle\" x=\"61.5\" y=\"-7.8\" font-family=\"Helvetica,sans-Serif\" font-size=\"14.00\" fill=\"#000000\">value = [0, 29, 0]</text>\n</g>\n<!-- 4&#45;&gt;5 -->\n<g id=\"edge5\" class=\"edge\">\n<title>4&#45;&gt;5</title>\n<path fill=\"none\" stroke=\"#000000\" d=\"M106.8206,-88.9777C100.3775,-80.0954 93.422,-70.5067 86.9402,-61.5711\"/>\n<polygon fill=\"#000000\" stroke=\"#000000\" points=\"89.6079,-59.288 80.903,-53.2485 83.9417,-63.3982 89.6079,-59.288\"/>\n</g>\n<!-- 6 -->\n<g id=\"node7\" class=\"node\">\n<title>6</title>\n<path fill=\"none\" stroke=\"#000000\" d=\"M252,-53C252,-53 153,-53 153,-53 147,-53 141,-47 141,-41 141,-41 141,-12 141,-12 141,-6 147,0 153,0 153,0 252,0 252,0 258,0 264,-6 264,-12 264,-12 264,-41 264,-41 264,-47 258,-53 252,-53\"/>\n<text text-anchor=\"middle\" x=\"202.5\" y=\"-37.8\" font-family=\"Helvetica,sans-Serif\" font-size=\"14.00\" fill=\"#000000\">gini = 0.165</text>\n<text text-anchor=\"middle\" x=\"202.5\" y=\"-22.8\" font-family=\"Helvetica,sans-Serif\" font-size=\"14.00\" fill=\"#000000\">samples = 11</text>\n<text text-anchor=\"middle\" x=\"202.5\" y=\"-7.8\" font-family=\"Helvetica,sans-Serif\" font-size=\"14.00\" fill=\"#000000\">value = [0, 10, 1]</text>\n</g>\n<!-- 4&#45;&gt;6 -->\n<g id=\"edge6\" class=\"edge\">\n<title>4&#45;&gt;6</title>\n<path fill=\"none\" stroke=\"#000000\" d=\"M156.5319,-88.9777C163.0671,-80.0954 170.122,-70.5067 176.6964,-61.5711\"/>\n<polygon fill=\"#000000\" stroke=\"#000000\" points=\"179.7126,-63.3775 182.8198,-53.2485 174.0743,-59.229 179.7126,-63.3775\"/>\n</g>\n<!-- 9 -->\n<g id=\"node10\" class=\"node\">\n<title>9</title>\n<path fill=\"none\" stroke=\"#000000\" d=\"M517,-149.5C517,-149.5 418,-149.5 418,-149.5 412,-149.5 406,-143.5 406,-137.5 406,-137.5 406,-108.5 406,-108.5 406,-102.5 412,-96.5 418,-96.5 418,-96.5 517,-96.5 517,-96.5 523,-96.5 529,-102.5 529,-108.5 529,-108.5 529,-137.5 529,-137.5 529,-143.5 523,-149.5 517,-149.5\"/>\n<text text-anchor=\"middle\" x=\"467.5\" y=\"-134.3\" font-family=\"Helvetica,sans-Serif\" font-size=\"14.00\" fill=\"#000000\">gini = 0.165</text>\n<text text-anchor=\"middle\" x=\"467.5\" y=\"-119.3\" font-family=\"Helvetica,sans-Serif\" font-size=\"14.00\" fill=\"#000000\">samples = 11</text>\n<text text-anchor=\"middle\" x=\"467.5\" y=\"-104.3\" font-family=\"Helvetica,sans-Serif\" font-size=\"14.00\" fill=\"#000000\">value = [0, 1, 10]</text>\n</g>\n<!-- 8&#45;&gt;9 -->\n<g id=\"edge9\" class=\"edge\">\n<title>8&#45;&gt;9</title>\n<path fill=\"none\" stroke=\"#000000\" d=\"M476.9159,-192.9465C475.4776,-182.2621 473.8842,-170.4254 472.4235,-159.5742\"/>\n<polygon fill=\"#000000\" stroke=\"#000000\" points=\"475.8759,-158.9858 471.073,-149.5422 468.9385,-159.9197 475.8759,-158.9858\"/>\n</g>\n<!-- 10 -->\n<g id=\"node11\" class=\"node\">\n<title>10</title>\n<path fill=\"none\" stroke=\"#000000\" d=\"M658,-149.5C658,-149.5 559,-149.5 559,-149.5 553,-149.5 547,-143.5 547,-137.5 547,-137.5 547,-108.5 547,-108.5 547,-102.5 553,-96.5 559,-96.5 559,-96.5 658,-96.5 658,-96.5 664,-96.5 670,-102.5 670,-108.5 670,-108.5 670,-137.5 670,-137.5 670,-143.5 664,-149.5 658,-149.5\"/>\n<text text-anchor=\"middle\" x=\"608.5\" y=\"-134.3\" font-family=\"Helvetica,sans-Serif\" font-size=\"14.00\" fill=\"#000000\">gini = 0.0</text>\n<text text-anchor=\"middle\" x=\"608.5\" y=\"-119.3\" font-family=\"Helvetica,sans-Serif\" font-size=\"14.00\" fill=\"#000000\">samples = 35</text>\n<text text-anchor=\"middle\" x=\"608.5\" y=\"-104.3\" font-family=\"Helvetica,sans-Serif\" font-size=\"14.00\" fill=\"#000000\">value = [0, 0, 35]</text>\n</g>\n<!-- 8&#45;&gt;10 -->\n<g id=\"edge10\" class=\"edge\">\n<title>8&#45;&gt;10</title>\n<path fill=\"none\" stroke=\"#000000\" d=\"M523.0845,-192.9465C537.6115,-181.0504 553.8827,-167.726 568.2951,-155.9237\"/>\n<polygon fill=\"#000000\" stroke=\"#000000\" points=\"570.5686,-158.5858 576.0879,-149.5422 566.1335,-153.17 570.5686,-158.5858\"/>\n</g>\n</g>\n</svg>\n"
          },
          "metadata": {},
          "execution_count": 7
        }
      ]
    },
    {
      "cell_type": "markdown",
      "source": [
        "We can see that the first split is petal width and results in two nodes, one node where all the samples are of the first class (denoted by [50,0,0]) and the rest of the data ([0,50,50])."
      ],
      "metadata": {
        "id": "J9ftqw_-iJBN"
      }
    },
    {
      "cell_type": "code",
      "source": [
        "predictions = tr.predict(features)\n",
        "print(\"Accuracy: {:.1%}\".format(np.mean(predictions==labels)))"
      ],
      "metadata": {
        "colab": {
          "base_uri": "https://localhost:8080/"
        },
        "id": "Ozq45SXAhzm6",
        "outputId": "7eb49f3f-23f1-4924-897e-24552905f5bc"
      },
      "execution_count": 9,
      "outputs": [
        {
          "output_type": "stream",
          "name": "stdout",
          "text": [
            "Accuracy: 96.0%\n"
          ]
        }
      ]
    },
    {
      "cell_type": "code",
      "source": [
        "from sklearn import model_selection\n",
        "predictions = model_selection.cross_val_predict(\n",
        "    tr,\n",
        "    features,\n",
        "    labels,\n",
        "    cv = model_selection.LeaveOneOut()\n",
        ")\n",
        "\n",
        "print(np.mean(predictions == labels))"
      ],
      "metadata": {
        "colab": {
          "base_uri": "https://localhost:8080/"
        },
        "id": "gK4-32G5iivD",
        "outputId": "40d00623-1356-41ae-dd8b-5b65bc56cdc6"
      },
      "execution_count": 10,
      "outputs": [
        {
          "output_type": "stream",
          "name": "stdout",
          "text": [
            "0.9533333333333334\n"
          ]
        }
      ]
    },
    {
      "cell_type": "code",
      "source": [
        "import numpy as np\n",
        "\n",
        "\n",
        "def load_dataset(dataset_name):\n",
        "    features = []\n",
        "    target = []\n",
        "    target_names = set()\n",
        "    with open('seeds.tsv'.format(dataset_name)) as ifile:\n",
        "        for line in ifile:\n",
        "            tokens = line.strip().split('\\t')\n",
        "            features.append([float(tk) for tk in tokens[:-1]])\n",
        "            target.append(tokens[-1])\n",
        "            target_names.add(tokens[-1])\n",
        "    features = np.array(features)\n",
        "\n",
        "    target_names = list(target_names)\n",
        "    target_names.sort()\n",
        "    target = np.array([target_names.index(t) for t in target])\n",
        "    return {\n",
        "            'features': features,\n",
        "            'target_names': target_names,\n",
        "            'target': target,\n",
        "            }"
      ],
      "metadata": {
        "id": "Tz6t_VaMrT5r"
      },
      "execution_count": 11,
      "outputs": []
    },
    {
      "cell_type": "code",
      "source": [
        "\n",
        "feature_names = [\n",
        "    'area',\n",
        "    'perimeter',\n",
        "    'compactness',\n",
        "    'length of kernel',\n",
        "    'width of kernel',\n",
        "    'asymmetry coefficien',\n",
        "    'length of kernel groove',\n",
        "]\n",
        "data = load_dataset('seeds')\n",
        "features = data['features']\n",
        "target = data['target']\n"
      ],
      "metadata": {
        "id": "kmfI761RnixV"
      },
      "execution_count": 12,
      "outputs": []
    },
    {
      "cell_type": "markdown",
      "source": [
        "### Using K-Nearest Neigbors Classifier"
      ],
      "metadata": {
        "id": "NZtlSMCwsuua"
      }
    },
    {
      "cell_type": "code",
      "source": [
        "from sklearn.neighbors import KNeighborsClassifier\n",
        "knn = KNeighborsClassifier(n_neighbors = 1)"
      ],
      "metadata": {
        "id": "AVkOanDMpCiC"
      },
      "execution_count": 13,
      "outputs": []
    },
    {
      "cell_type": "code",
      "source": [
        "kf = model_selection.KFold(n_splits = 5 , shuffle = False)\n",
        "means = []\n",
        "for training , testing in kf.split(features):\n",
        "  # we learn a model for this fold with `fit` and then apply to the\n",
        "  # testing data with `predict`\n",
        "  knn.fit(features[training] , target[training]) \n",
        "  prediction = knn.predict(features[testing]) \n",
        "\n",
        "  # np.mean on an array of booleans returns fraction\n",
        "  # of correct decisions for this fold\n",
        "  curmean = np.mean(prediction == target[testing])\n",
        "  means.append(curmean)\n",
        "print('Mean accuracy:{:.1%}'.format(np.mean(means)))\n"
      ],
      "metadata": {
        "colab": {
          "base_uri": "https://localhost:8080/"
        },
        "id": "28vhhNj8pLVG",
        "outputId": "7e7492a8-c88a-4604-9afe-88c7d866eb56"
      },
      "execution_count": 14,
      "outputs": [
        {
          "output_type": "stream",
          "name": "stdout",
          "text": [
            "Mean accuracy:83.8%\n"
          ]
        }
      ]
    },
    {
      "cell_type": "code",
      "source": [
        "from sklearn.pipeline import Pipeline\n",
        "from sklearn.preprocessing import StandardScaler\n",
        "\n",
        "classifier = KNeighborsClassifier(n_neighbors = 5)\n",
        "classifier = Pipeline([('norm',StandardScaler()),\n",
        "                        ('knn' , classifier)\n",
        "                        ])\n",
        "\n",
        "means = []\n",
        "for training , testing in kf.split(features):\n",
        "  classifier.fit(features[training] , target[training])\n",
        "  prediction = classifier.predict(features[testing])\n",
        "\n",
        "  curmean  = np.mean(prediction == target[testing])\n",
        "  means.append(curmean)\n",
        "\n",
        "print('Mean accuracy : {:.1%}'.format(np.mean(means)))\n"
      ],
      "metadata": {
        "colab": {
          "base_uri": "https://localhost:8080/"
        },
        "id": "tzc70_N_tbU6",
        "outputId": "bfdd66e7-9eb3-4f61-f1f6-8721501c2443"
      },
      "execution_count": 15,
      "outputs": [
        {
          "output_type": "stream",
          "name": "stdout",
          "text": [
            "Mean accuracy : 86.7%\n"
          ]
        }
      ]
    },
    {
      "cell_type": "code",
      "source": [
        "def plot_decision_space(clf , features , target , use_color = True):\n",
        "  from matplotlib.colors import ListedColormap\n",
        "\n",
        "  clf.fit(features[:, [0,2]] , target)\n",
        "\n",
        "# we will call predict on a grid of features values(1000 by 1000 points):\n",
        "  y0 , y1 = features[:, 2].min() * .9 , features[: , 2].max() * 1.1\n",
        "  x0 , x1 = features[:, 0].min() * .9 , features[: , 0].max() * 1.1\n",
        "  x = np.linspace(x0,x1,1000)\n",
        "  y = np.linspace(y0 , y1 , 1000)\n",
        "  x,y = np.meshgrid(x,y)\n",
        "  c = clf.predict(np.vstack([x.ravel() , y.ravel()]).T).reshape(x.shape)\n",
        "\n",
        "# Now ,we plot the decision boundaries\n",
        "  if use_color:\n",
        "    cmap = ListedColormap([(1., .7, .7) , (.7, 1., .7) , (.7, .7 , 1.)])\n",
        "  else:\n",
        "    cmap = ListedColormap([(1., 1., 1.) , (.2, .2, .2) , (.6, .6 , .6)])\n",
        "\n",
        "  fig , ax = plt.subplots()\n",
        "  fig.set_size_inches(12, 6)\n",
        "\n",
        "  ax.scatter(features[:, 0], features[:, 2], c=target, cmap=cmap)\n",
        "  for lab,ma in zip(range(3), \"Do^\"):\n",
        "    ax.plot(features[target == lab , 0] ,\n",
        "            features[target == lab,2],\n",
        "            ma,\n",
        "            c=(1., 1. , 1.),\n",
        "            ms = 6\n",
        "            )\n",
        "  ax.set_xlim(x0,x1)\n",
        "  ax.set_ylim(y0,y1)\n",
        "  ax.set_xlabel(feature_names[0])\n",
        "  ax.set_ylabel(feature_names[2])\n",
        "  ax.pcolormesh(x,y,c , cmap = cmap)\n",
        "  return fig\n",
        "\n",
        "    \n",
        "\n"
      ],
      "metadata": {
        "id": "wWod8Of5vbM-"
      },
      "execution_count": 16,
      "outputs": []
    },
    {
      "cell_type": "code",
      "source": [
        "_= plot_decision_space(knn , features , target)"
      ],
      "metadata": {
        "colab": {
          "base_uri": "https://localhost:8080/",
          "height": 388
        },
        "id": "roPl9nJWzjC_",
        "outputId": "18789ee0-2688-4de5-c241-365aac2a2774"
      },
      "execution_count": 17,
      "outputs": [
        {
          "output_type": "display_data",
          "data": {
            "text/plain": [
              "<Figure size 864x432 with 1 Axes>"
            ],
            "image/png": "[encoded data removed]"
          },
          "metadata": {
            "needs_background": "light"
          }
        }
      ]
    },
    {
      "cell_type": "code",
      "source": [
        "from sklearn.preprocessing import StandardScaler\n",
        "\n",
        "classifier = KNeighborsClassifier(n_jobs= 1)\n",
        "classifier = Pipeline([('norm', StandardScaler()),\n",
        "                       ('Knn',classifier)\n",
        "                       ])"
      ],
      "metadata": {
        "id": "_5GoxD_jzy6v"
      },
      "execution_count": 18,
      "outputs": []
    },
    {
      "cell_type": "code",
      "source": [
        "_ = plot_decision_space(classifier,features , target)"
      ],
      "metadata": {
        "colab": {
          "base_uri": "https://localhost:8080/",
          "height": 388
        },
        "id": "8ZYPvuEY0vQb",
        "outputId": "3beabb93-8db2-4433-9372-b04002c72c13"
      },
      "execution_count": 19,
      "outputs": [
        {
          "output_type": "display_data",
          "data": {
            "text/plain": [
              "<Figure size 864x432 with 1 Axes>"
            ],
            "image/png": "[encoded data removed]"
          },
          "metadata": {
            "needs_background": "light"
          }
        }
      ]
    },
    {
      "cell_type": "markdown",
      "source": [
        "### Random forests"
      ],
      "metadata": {
        "id": "iuMFuQNR1zM8"
      }
    },
    {
      "cell_type": "code",
      "source": [
        "from sklearn import ensemble\n",
        "rf = ensemble.RandomForestClassifier(n_estimators = 100)"
      ],
      "metadata": {
        "id": "HJ2ZKfPW1Ae3"
      },
      "execution_count": 20,
      "outputs": []
    },
    {
      "cell_type": "code",
      "source": [
        "predict = model_selection.cross_val_predict(rf , features , target)\n",
        "print(\"RF accuracy: {:.1%}\".format(np.mean(predict == target)))"
      ],
      "metadata": {
        "colab": {
          "base_uri": "https://localhost:8080/"
        },
        "id": "dUzwj6_f2Cjv",
        "outputId": "f531923c-8a51-4ec0-fb28-0f0dd77c5998"
      },
      "execution_count": 21,
      "outputs": [
        {
          "output_type": "stream",
          "name": "stdout",
          "text": [
            "RF accuracy: 89.0%\n"
          ]
        }
      ]
    },
    {
      "cell_type": "code",
      "source": [
        "_= plot_decision_space(rf,features ,target)"
      ],
      "metadata": {
        "colab": {
          "base_uri": "https://localhost:8080/",
          "height": 388
        },
        "id": "YqNuqN2q2T__",
        "outputId": "5744ffca-3d8f-4bef-c475-94e275562f98"
      },
      "execution_count": 22,
      "outputs": [
        {
          "output_type": "display_data",
          "data": {
            "text/plain": [
              "<Figure size 864x432 with 1 Axes>"
            ],
            "image/png": "[encoded data removed]"
          },
          "metadata": {
            "needs_background": "light"
          }
        }
      ]
    },
    {
      "cell_type": "code",
      "source": [
        ""
      ],
      "metadata": {
        "id": "_wq9MKEf2ey4"
      },
      "execution_count": null,
      "outputs": []
    }
  ]
}