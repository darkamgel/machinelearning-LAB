{
  "nbformat": 4,
  "nbformat_minor": 0,
  "metadata": {
    "colab": {
      "name": "Assignment-1.ipynb",
      "provenance": []
    },
    "kernelspec": {
      "name": "python3",
      "display_name": "Python 3"
    },
    "language_info": {
      "name": "python"
    }
  },
  "cells": [
    {
      "cell_type": "markdown",
      "source": [
        "Name: Sanjeev Kumar Khatri\n",
        "\n",
        "Roll no : 23\n",
        "\n",
        "Group : CS\n",
        "\n",
        "Assignment : 01"
      ],
      "metadata": {
        "id": "BnsMcJO3aSew"
      }
    },
    {
      "cell_type": "markdown",
      "source": [
        "## Practical Assignemnt - 1 ##\n",
        "1. Getting started with Python Machine Learning Introduction to NumPy, SciPy, and Matplotlib Installing with Python\n",
        "2. Chewing data efficiently with NumPy and intelligently with SciPy\n",
        "3. Learning NumPy, SciPy\n",
        "4. First application of machine learning\n",
        "  * Reading in the data\n",
        "  * Preprocessing and cleaning the data\n",
        "   * Choosing the right model and learning algorithm"
      ],
      "metadata": {
        "id": "u9a6vLIGa8B5"
      }
    },
    {
      "cell_type": "markdown",
      "source": [
        "###1. Learning Numpy ###"
      ],
      "metadata": {
        "id": "JRODjSjLedZV"
      }
    },
    {
      "cell_type": "code",
      "execution_count": 1,
      "metadata": {
        "colab": {
          "base_uri": "https://localhost:8080/",
          "height": 35
        },
        "id": "7wxEGi-laPAF",
        "outputId": "77253649-bf18-4b89-99cc-d762ac6b963b"
      },
      "outputs": [
        {
          "output_type": "execute_result",
          "data": {
            "text/plain": [
              "'1.21.6'"
            ],
            "application/vnd.google.colaboratory.intrinsic+json": {
              "type": "string"
            }
          },
          "metadata": {},
          "execution_count": 1
        }
      ],
      "source": [
        "# importing numpy\n",
        "import numpy as np \n",
        "np.version.full_version"
      ]
    },
    {
      "cell_type": "code",
      "source": [
        "a = np.array([0,1,2,3,4,5])\n",
        "a"
      ],
      "metadata": {
        "colab": {
          "base_uri": "https://localhost:8080/"
        },
        "id": "5RY06U_2a6d_",
        "outputId": "942b0203-df74-4561-8646-7af5b72da6be"
      },
      "execution_count": 2,
      "outputs": [
        {
          "output_type": "execute_result",
          "data": {
            "text/plain": [
              "array([0, 1, 2, 3, 4, 5])"
            ]
          },
          "metadata": {},
          "execution_count": 2
        }
      ]
    },
    {
      "cell_type": "code",
      "source": [
        "# for dimension and shape\n",
        "a.ndim , a.shape\n"
      ],
      "metadata": {
        "colab": {
          "base_uri": "https://localhost:8080/"
        },
        "id": "0yira8ZhbxOL",
        "outputId": "42d9a86d-aa4c-4c55-e3b3-4327b55c8829"
      },
      "execution_count": 3,
      "outputs": [
        {
          "output_type": "execute_result",
          "data": {
            "text/plain": [
              "(1, (6,))"
            ]
          },
          "metadata": {},
          "execution_count": 3
        }
      ]
    },
    {
      "cell_type": "code",
      "source": [
        "# converting this array into two-dimensional array\n",
        "b = a.reshape((3,2))\n",
        "b"
      ],
      "metadata": {
        "colab": {
          "base_uri": "https://localhost:8080/"
        },
        "id": "eTgWG4ysb6it",
        "outputId": "48b65e9f-5144-44a5-e60f-dc6efc82494e"
      },
      "execution_count": 4,
      "outputs": [
        {
          "output_type": "execute_result",
          "data": {
            "text/plain": [
              "array([[0, 1],\n",
              "       [2, 3],\n",
              "       [4, 5]])"
            ]
          },
          "metadata": {},
          "execution_count": 4
        }
      ]
    },
    {
      "cell_type": "code",
      "source": [
        "b.ndim , b.shape"
      ],
      "metadata": {
        "colab": {
          "base_uri": "https://localhost:8080/"
        },
        "id": "DCczEK92cGSa",
        "outputId": "eecc5c53-a8b4-490e-a439-0abc3f7ccdb2"
      },
      "execution_count": 5,
      "outputs": [
        {
          "output_type": "execute_result",
          "data": {
            "text/plain": [
              "(2, (3, 2))"
            ]
          },
          "metadata": {},
          "execution_count": 5
        }
      ]
    },
    {
      "cell_type": "markdown",
      "source": [
        "It is important to realize just how much the NumPy package is optimized. For example, doing the following avoids copies wherever possible:"
      ],
      "metadata": {
        "id": "6fDni1RJcXTq"
      }
    },
    {
      "cell_type": "code",
      "source": [
        "b[1][0] = 77\n",
        "b"
      ],
      "metadata": {
        "colab": {
          "base_uri": "https://localhost:8080/"
        },
        "id": "scniAGq_cI9v",
        "outputId": "9ce5c2dd-e817-4442-f7f1-e70cc2eee265"
      },
      "execution_count": 6,
      "outputs": [
        {
          "output_type": "execute_result",
          "data": {
            "text/plain": [
              "array([[ 0,  1],\n",
              "       [77,  3],\n",
              "       [ 4,  5]])"
            ]
          },
          "metadata": {},
          "execution_count": 6
        }
      ]
    },
    {
      "cell_type": "code",
      "source": [
        "a"
      ],
      "metadata": {
        "colab": {
          "base_uri": "https://localhost:8080/"
        },
        "id": "6NUPBo6ecb3D",
        "outputId": "0fc637f0-85bb-4327-bf96-b6368ffe525f"
      },
      "execution_count": 7,
      "outputs": [
        {
          "output_type": "execute_result",
          "data": {
            "text/plain": [
              "array([ 0,  1, 77,  3,  4,  5])"
            ]
          },
          "metadata": {},
          "execution_count": 7
        }
      ]
    },
    {
      "cell_type": "markdown",
      "source": [
        "we can say here `a[2]` has also changed"
      ],
      "metadata": {
        "id": "OoaGqsCnck8l"
      }
    },
    {
      "cell_type": "markdown",
      "source": [
        "For `copy`:\n"
      ],
      "metadata": {
        "id": "8mtL9KZvcvQO"
      }
    },
    {
      "cell_type": "code",
      "source": [
        "c = a.reshape((3,2)).copy()\n",
        "c"
      ],
      "metadata": {
        "colab": {
          "base_uri": "https://localhost:8080/"
        },
        "id": "7Qw19KDScdmN",
        "outputId": "34cf4821-7433-4c84-c5a2-9efd82f73de6"
      },
      "execution_count": 8,
      "outputs": [
        {
          "output_type": "execute_result",
          "data": {
            "text/plain": [
              "array([[ 0,  1],\n",
              "       [77,  3],\n",
              "       [ 4,  5]])"
            ]
          },
          "metadata": {},
          "execution_count": 8
        }
      ]
    },
    {
      "cell_type": "code",
      "source": [
        "c[0][0] = -99\n",
        "c"
      ],
      "metadata": {
        "colab": {
          "base_uri": "https://localhost:8080/"
        },
        "id": "hcIg3uGHdVBs",
        "outputId": "5f7d2440-123f-4777-f2f7-08ed2f67e3f4"
      },
      "execution_count": 9,
      "outputs": [
        {
          "output_type": "execute_result",
          "data": {
            "text/plain": [
              "array([[-99,   1],\n",
              "       [ 77,   3],\n",
              "       [  4,   5]])"
            ]
          },
          "metadata": {},
          "execution_count": 9
        }
      ]
    },
    {
      "cell_type": "markdown",
      "source": [
        "Value of `a[0]` remain unchanged:"
      ],
      "metadata": {
        "id": "fzQFMH3ZdhH9"
      }
    },
    {
      "cell_type": "code",
      "source": [
        "a"
      ],
      "metadata": {
        "colab": {
          "base_uri": "https://localhost:8080/"
        },
        "id": "SZcRtLfDdcLA",
        "outputId": "439b3b4e-2b11-4c3d-d4df-65a6d412de51"
      },
      "execution_count": 10,
      "outputs": [
        {
          "output_type": "execute_result",
          "data": {
            "text/plain": [
              "array([ 0,  1, 77,  3,  4,  5])"
            ]
          },
          "metadata": {},
          "execution_count": 10
        }
      ]
    },
    {
      "cell_type": "markdown",
      "source": [
        "Multiplying a NumPy array will result in an array of the same size"
      ],
      "metadata": {
        "id": "nQHN6TZRd452"
      }
    },
    {
      "cell_type": "code",
      "source": [
        "d = np.array([1,2,3,4,5])\n",
        "d*2"
      ],
      "metadata": {
        "colab": {
          "base_uri": "https://localhost:8080/"
        },
        "id": "wKQ5UeindfoC",
        "outputId": "1217b772-6824-4f87-a3af-b0e56ed6ec9a"
      },
      "execution_count": 11,
      "outputs": [
        {
          "output_type": "execute_result",
          "data": {
            "text/plain": [
              "array([ 2,  4,  6,  8, 10])"
            ]
          },
          "metadata": {},
          "execution_count": 11
        }
      ]
    },
    {
      "cell_type": "code",
      "source": [
        "d**2"
      ],
      "metadata": {
        "colab": {
          "base_uri": "https://localhost:8080/"
        },
        "id": "twqJfDV1dyjf",
        "outputId": "7df3266b-9036-4ef3-cd38-7d7b8cc2d5fe"
      },
      "execution_count": 12,
      "outputs": [
        {
          "output_type": "execute_result",
          "data": {
            "text/plain": [
              "array([ 1,  4,  9, 16, 25])"
            ]
          },
          "metadata": {},
          "execution_count": 12
        }
      ]
    },
    {
      "cell_type": "markdown",
      "source": [
        "This works differently in python lists"
      ],
      "metadata": {
        "id": "L9RlcBCDeGyr"
      }
    },
    {
      "cell_type": "code",
      "source": [
        "[1,2,3,4,5] * 2"
      ],
      "metadata": {
        "colab": {
          "base_uri": "https://localhost:8080/"
        },
        "id": "J5afxzOad-CL",
        "outputId": "f6006d7e-7de2-45e3-f902-27b5e5e528df"
      },
      "execution_count": 13,
      "outputs": [
        {
          "output_type": "execute_result",
          "data": {
            "text/plain": [
              "[1, 2, 3, 4, 5, 1, 2, 3, 4, 5]"
            ]
          },
          "metadata": {},
          "execution_count": 13
        }
      ]
    },
    {
      "cell_type": "code",
      "source": [
        "[1,2,3,4,5] ** 2"
      ],
      "metadata": {
        "colab": {
          "base_uri": "https://localhost:8080/",
          "height": 169
        },
        "id": "QtSIClqxeOT8",
        "outputId": "b1aa074d-6f9d-4232-c928-fbb250f836f4"
      },
      "execution_count": 14,
      "outputs": [
        {
          "output_type": "error",
          "ename": "TypeError",
          "evalue": "ignored",
          "traceback": [
            "\u001b[0;31m---------------------------------------------------------------------------\u001b[0m",
            "\u001b[0;31mTypeError\u001b[0m                                 Traceback (most recent call last)",
            "\u001b[0;32m<ipython-input-14-a5808ecf8a4e>\u001b[0m in \u001b[0;36m<module>\u001b[0;34m()\u001b[0m\n\u001b[0;32m----> 1\u001b[0;31m \u001b[0;34m[\u001b[0m\u001b[0;36m1\u001b[0m\u001b[0;34m,\u001b[0m\u001b[0;36m2\u001b[0m\u001b[0;34m,\u001b[0m\u001b[0;36m3\u001b[0m\u001b[0;34m,\u001b[0m\u001b[0;36m4\u001b[0m\u001b[0;34m,\u001b[0m\u001b[0;36m5\u001b[0m\u001b[0;34m]\u001b[0m \u001b[0;34m**\u001b[0m \u001b[0;36m2\u001b[0m\u001b[0;34m\u001b[0m\u001b[0;34m\u001b[0m\u001b[0m\n\u001b[0m",
            "\u001b[0;31mTypeError\u001b[0m: unsupported operand type(s) for ** or pow(): 'list' and 'int'"
          ]
        }
      ]
    },
    {
      "cell_type": "markdown",
      "source": [
        "#### Indexing ####"
      ],
      "metadata": {
        "id": "eE3OmrMReX-M"
      }
    },
    {
      "cell_type": "markdown",
      "source": [
        "In addition to normal list indexing, it allows you to use arrays themselves as indices by performing the following:\n",
        "\n",
        "* One can use a list as an index itself, which will then pick the elements individually from that dimension:"
      ],
      "metadata": {
        "id": "Tq4yyZfgerqo"
      }
    },
    {
      "cell_type": "code",
      "source": [
        "a[np.array([2,3,4])]"
      ],
      "metadata": {
        "colab": {
          "base_uri": "https://localhost:8080/"
        },
        "id": "anHyR8B9eRve",
        "outputId": "45d1d7ea-a76b-41e6-8925-d93b474facfd"
      },
      "execution_count": 15,
      "outputs": [
        {
          "output_type": "execute_result",
          "data": {
            "text/plain": [
              "array([77,  3,  4])"
            ]
          },
          "metadata": {},
          "execution_count": 15
        }
      ]
    },
    {
      "cell_type": "markdown",
      "source": [
        "In normal list\n"
      ],
      "metadata": {
        "id": "m3DaNkMQe9a3"
      }
    },
    {
      "cell_type": "code",
      "source": [
        "a[[2,3,4]]"
      ],
      "metadata": {
        "colab": {
          "base_uri": "https://localhost:8080/"
        },
        "id": "6TFxOLEDew6L",
        "outputId": "14978420-a406-4ed2-b00a-513b28bbb946"
      },
      "execution_count": 16,
      "outputs": [
        {
          "output_type": "execute_result",
          "data": {
            "text/plain": [
              "array([77,  3,  4])"
            ]
          },
          "metadata": {},
          "execution_count": 16
        }
      ]
    },
    {
      "cell_type": "code",
      "source": [
        "a>4 # check with every element of an array"
      ],
      "metadata": {
        "colab": {
          "base_uri": "https://localhost:8080/"
        },
        "id": "GvJIi6-ZfCjy",
        "outputId": "76986ca8-53be-40d6-c575-0f2b115d2280"
      },
      "execution_count": 17,
      "outputs": [
        {
          "output_type": "execute_result",
          "data": {
            "text/plain": [
              "array([False, False,  True, False, False,  True])"
            ]
          },
          "metadata": {},
          "execution_count": 17
        }
      ]
    },
    {
      "cell_type": "code",
      "source": [
        "a[a>4] # give the element greater than 4"
      ],
      "metadata": {
        "colab": {
          "base_uri": "https://localhost:8080/"
        },
        "id": "fZqyOBDyfRS4",
        "outputId": "cb4fa0dc-2671-44bf-df4b-f3f05dd15f62"
      },
      "execution_count": 18,
      "outputs": [
        {
          "output_type": "execute_result",
          "data": {
            "text/plain": [
              "array([77,  5])"
            ]
          },
          "metadata": {},
          "execution_count": 18
        }
      ]
    },
    {
      "cell_type": "code",
      "source": [
        "a[a>4] = 4 # changint the elements to 4 which are greater than 4\n",
        "a"
      ],
      "metadata": {
        "colab": {
          "base_uri": "https://localhost:8080/"
        },
        "id": "7WdykHq_ffB5",
        "outputId": "22096d07-558c-4481-8a89-25a0a69f4434"
      },
      "execution_count": 19,
      "outputs": [
        {
          "output_type": "execute_result",
          "data": {
            "text/plain": [
              "array([0, 1, 4, 3, 4, 4])"
            ]
          },
          "metadata": {},
          "execution_count": 19
        }
      ]
    },
    {
      "cell_type": "code",
      "source": [
        "a.clip(0,4)"
      ],
      "metadata": {
        "colab": {
          "base_uri": "https://localhost:8080/"
        },
        "id": "obWus8v5fXhX",
        "outputId": "0d93f096-0d2a-42d9-9453-cbb3dcb26d4d"
      },
      "execution_count": 20,
      "outputs": [
        {
          "output_type": "execute_result",
          "data": {
            "text/plain": [
              "array([0, 1, 4, 3, 4, 4])"
            ]
          },
          "metadata": {},
          "execution_count": 20
        }
      ]
    },
    {
      "cell_type": "markdown",
      "source": [
        "#### Handling the Nonexistent values (NAN)####"
      ],
      "metadata": {
        "id": "tZRb4XozgC7H"
      }
    },
    {
      "cell_type": "code",
      "source": [
        "# lets pretend we have read this from a texxt file:\n",
        "c = np.array([1,2,np.NAN , 3, 4])\n",
        "c"
      ],
      "metadata": {
        "colab": {
          "base_uri": "https://localhost:8080/"
        },
        "id": "5FVuu-u7fZS3",
        "outputId": "6eab021a-5c44-4dbf-f2a4-3ba084250ac4"
      },
      "execution_count": 21,
      "outputs": [
        {
          "output_type": "execute_result",
          "data": {
            "text/plain": [
              "array([ 1.,  2., nan,  3.,  4.])"
            ]
          },
          "metadata": {},
          "execution_count": 21
        }
      ]
    },
    {
      "cell_type": "code",
      "source": [
        "np.isnan(c)"
      ],
      "metadata": {
        "colab": {
          "base_uri": "https://localhost:8080/"
        },
        "id": "9DBWq0-BhHg_",
        "outputId": "5721dd04-5e67-478c-cfa5-5858046dbc67"
      },
      "execution_count": 22,
      "outputs": [
        {
          "output_type": "execute_result",
          "data": {
            "text/plain": [
              "array([False, False,  True, False, False])"
            ]
          },
          "metadata": {},
          "execution_count": 22
        }
      ]
    },
    {
      "cell_type": "code",
      "source": [
        "c[~np.isnan(c)]"
      ],
      "metadata": {
        "colab": {
          "base_uri": "https://localhost:8080/"
        },
        "id": "3L1Tk4RVhLgM",
        "outputId": "65ced9c6-8282-4075-9af6-d73d05111b0e"
      },
      "execution_count": 23,
      "outputs": [
        {
          "output_type": "execute_result",
          "data": {
            "text/plain": [
              "array([1., 2., 3., 4.])"
            ]
          },
          "metadata": {},
          "execution_count": 23
        }
      ]
    },
    {
      "cell_type": "code",
      "source": [
        "np.mean(c[~np.isnan(c)])"
      ],
      "metadata": {
        "colab": {
          "base_uri": "https://localhost:8080/"
        },
        "id": "GDXwtdjjhUCh",
        "outputId": "e0265b8c-cada-4c1b-aeb3-40256315469e"
      },
      "execution_count": 24,
      "outputs": [
        {
          "output_type": "execute_result",
          "data": {
            "text/plain": [
              "2.5"
            ]
          },
          "metadata": {},
          "execution_count": 24
        }
      ]
    },
    {
      "cell_type": "markdown",
      "source": [
        "#### Comparing the runtime ####\n",
        "\n",
        "* Python lists vs Numpy "
      ],
      "metadata": {
        "id": "cZbklmiFhd0X"
      }
    },
    {
      "cell_type": "code",
      "source": [
        "import timeit\n",
        "\n",
        "normal_py_sec = timeit.timeit('sum(x*x for x in range(1000))', number = 10000)\n",
        "\n",
        "naive_np_sec = timeit.timeit('sum(na * na)' , setup = \"import numpy as np ; na = np.arange(1000)\", number = 10000)\n",
        "\n",
        "good_np_sec = timeit.timeit('na.dot(na)', setup = \"import numpy as np ; na = np.arange(1000)\" , number = 10000)\n",
        "\n",
        "\n",
        "print(f\"Normal python : %f sec\" % normal_py_sec)\n",
        "print(f\"Naive Numpy : %f sec\" % naive_np_sec)\n",
        "print(f\"Good Numpy : %f sec\" % good_np_sec)\n"
      ],
      "metadata": {
        "colab": {
          "base_uri": "https://localhost:8080/"
        },
        "id": "NerNzd4ehboT",
        "outputId": "fa276a0c-e626-4240-fb6b-f55717c0567a"
      },
      "execution_count": 25,
      "outputs": [
        {
          "output_type": "stream",
          "name": "stdout",
          "text": [
            "Normal python : 2.381367 sec\n",
            "Naive Numpy : 2.182774 sec\n",
            "Good Numpy : 0.046677 sec\n"
          ]
        }
      ]
    },
    {
      "cell_type": "code",
      "source": [
        "a = np.array([1,2,3])\n",
        "a.dtype"
      ],
      "metadata": {
        "colab": {
          "base_uri": "https://localhost:8080/"
        },
        "id": "gffvZXifi2q2",
        "outputId": "d0c4146c-b293-4bcc-8e71-7792896c6aaf"
      },
      "execution_count": 26,
      "outputs": [
        {
          "output_type": "execute_result",
          "data": {
            "text/plain": [
              "dtype('int64')"
            ]
          },
          "metadata": {},
          "execution_count": 26
        }
      ]
    },
    {
      "cell_type": "code",
      "source": [
        "np.array([1, \"stringy\"])"
      ],
      "metadata": {
        "colab": {
          "base_uri": "https://localhost:8080/"
        },
        "id": "Jkrw4qKXjH0p",
        "outputId": "33117803-d086-4a54-a95a-cdad9399c076"
      },
      "execution_count": 27,
      "outputs": [
        {
          "output_type": "execute_result",
          "data": {
            "text/plain": [
              "array(['1', 'stringy'], dtype='<U21')"
            ]
          },
          "metadata": {},
          "execution_count": 27
        }
      ]
    },
    {
      "cell_type": "code",
      "source": [
        "np.array([1 , \"stringy\" , {1,2,3}])"
      ],
      "metadata": {
        "colab": {
          "base_uri": "https://localhost:8080/"
        },
        "id": "ryvZuTBIjN1j",
        "outputId": "dd0e320a-a0ac-42f8-8a96-bbd29a02bfd5"
      },
      "execution_count": 28,
      "outputs": [
        {
          "output_type": "execute_result",
          "data": {
            "text/plain": [
              "array([1, 'stringy', {1, 2, 3}], dtype=object)"
            ]
          },
          "metadata": {},
          "execution_count": 28
        }
      ]
    },
    {
      "cell_type": "markdown",
      "source": [
        "### 2. Learning Scipy ###"
      ],
      "metadata": {
        "id": "Tc9DtzB1jVM2"
      }
    },
    {
      "cell_type": "code",
      "source": [
        "import scipy \n",
        "scipy.version.full_version"
      ],
      "metadata": {
        "colab": {
          "base_uri": "https://localhost:8080/",
          "height": 35
        },
        "id": "_C2QZ0NNjT43",
        "outputId": "b392b711-360d-4b6c-b26e-9f0634a59b0e"
      },
      "execution_count": 29,
      "outputs": [
        {
          "output_type": "execute_result",
          "data": {
            "text/plain": [
              "'1.7.3'"
            ],
            "application/vnd.google.colaboratory.intrinsic+json": {
              "type": "string"
            }
          },
          "metadata": {},
          "execution_count": 29
        }
      ]
    },
    {
      "cell_type": "code",
      "source": [
        "scipy.dot is np.dot"
      ],
      "metadata": {
        "colab": {
          "base_uri": "https://localhost:8080/"
        },
        "id": "poHBveO4jzI1",
        "outputId": "c8d78bea-9faa-49b2-f360-94b22342fcf0"
      },
      "execution_count": 30,
      "outputs": [
        {
          "output_type": "execute_result",
          "data": {
            "text/plain": [
              "False"
            ]
          },
          "metadata": {},
          "execution_count": 30
        }
      ]
    },
    {
      "cell_type": "markdown",
      "source": [
        "Reading the data "
      ],
      "metadata": {
        "id": "kcNB4SbOk1Tf"
      }
    },
    {
      "cell_type": "code",
      "source": [
        "data = np.genfromtxt(\"web_traffic.tsv\" , delimiter = \"\\t\")\n",
        "print(data[:12])"
      ],
      "metadata": {
        "colab": {
          "base_uri": "https://localhost:8080/"
        },
        "id": "BwR--laHj2Go",
        "outputId": "30127b6c-9650-4fe3-a45c-afc3858ce9e6"
      },
      "execution_count": 31,
      "outputs": [
        {
          "output_type": "stream",
          "name": "stdout",
          "text": [
            "[[1.00000000e+00 2.27333106e+03]\n",
            " [2.00000000e+00 1.65725549e+03]\n",
            " [3.00000000e+00            nan]\n",
            " [4.00000000e+00 1.36684644e+03]\n",
            " [5.00000000e+00 1.48923438e+03]\n",
            " [6.00000000e+00 1.33802002e+03]\n",
            " [7.00000000e+00 1.88464734e+03]\n",
            " [8.00000000e+00 2.28475415e+03]\n",
            " [9.00000000e+00 1.33581091e+03]\n",
            " [1.00000000e+01 1.02583240e+03]\n",
            " [1.10000000e+01 1.14024109e+03]\n",
            " [1.20000000e+01 1.47834180e+03]]\n"
          ]
        }
      ]
    },
    {
      "cell_type": "code",
      "source": [
        "data.shape"
      ],
      "metadata": {
        "colab": {
          "base_uri": "https://localhost:8080/"
        },
        "id": "wmEujNSwl9aM",
        "outputId": "a5656fa0-571a-464f-d88f-b2de28561567"
      },
      "execution_count": 32,
      "outputs": [
        {
          "output_type": "execute_result",
          "data": {
            "text/plain": [
              "(743, 2)"
            ]
          },
          "metadata": {},
          "execution_count": 32
        }
      ]
    },
    {
      "cell_type": "code",
      "source": [
        "x = data[:,0]\n",
        "y = data[:,1]"
      ],
      "metadata": {
        "id": "ToO_3oIImGmi"
      },
      "execution_count": 33,
      "outputs": []
    },
    {
      "cell_type": "markdown",
      "source": [
        "Checking the NAN value in x and y :"
      ],
      "metadata": {
        "id": "a6dvY9RlnW6m"
      }
    },
    {
      "cell_type": "code",
      "source": [
        "np.sum(np.isnan(y)) , np.sum(np.isnan(x))"
      ],
      "metadata": {
        "colab": {
          "base_uri": "https://localhost:8080/"
        },
        "id": "64kC2zKomyLl",
        "outputId": "03cf8332-b8af-41cc-f6e8-1391009ac1ec"
      },
      "execution_count": 34,
      "outputs": [
        {
          "output_type": "execute_result",
          "data": {
            "text/plain": [
              "(8, 0)"
            ]
          },
          "metadata": {},
          "execution_count": 34
        }
      ]
    },
    {
      "cell_type": "code",
      "source": [
        "x = x[~np.isnan(y)]\n",
        "y = y[~np.isnan(y)]"
      ],
      "metadata": {
        "id": "8fAvrn8OnSad"
      },
      "execution_count": 35,
      "outputs": []
    },
    {
      "cell_type": "code",
      "source": [
        "np.sum(np.isnan(y))"
      ],
      "metadata": {
        "colab": {
          "base_uri": "https://localhost:8080/"
        },
        "id": "f-43fLznnmzp",
        "outputId": "43636da4-e7ec-41e1-e662-eb045bc55361"
      },
      "execution_count": 36,
      "outputs": [
        {
          "output_type": "execute_result",
          "data": {
            "text/plain": [
              "0"
            ]
          },
          "metadata": {},
          "execution_count": 36
        }
      ]
    },
    {
      "cell_type": "markdown",
      "source": [
        "Using `Matplotlib` to plot the scatter plot of the given data "
      ],
      "metadata": {
        "id": "ruuxcoCBn-u0"
      }
    },
    {
      "cell_type": "code",
      "source": [
        "import matplotlib.pyplot as plt\n",
        "\n",
        "def plot_web_traffic(x , y ,models = None , mx =  None):\n",
        "  \"\"\"\n",
        "  Plot the web traffic (y) over time (x).\n",
        "  If models is given, it is expected to be a list of fitted models,\n",
        "  Which will be ploted as well\n",
        "  \"\"\"\n",
        "\n",
        "  plt.figure(figsize = (12,6)) # widthe and height of the plot in inches\n",
        "  plt.scatter(x , y,s =10)\n",
        "  plt.title(\"Web traffic over the last month\")\n",
        "\n",
        "  plt.xlabel(\"Time\")\n",
        "  plt.ylabel(\"Hits/hour\")\n",
        "  plt.xticks(\n",
        "      [\n",
        "       w * 7 * 24 for w in range(5)\n",
        "       ],\n",
        "      [\n",
        "       'week %i' %(w + 1) for w in range(5)\n",
        "      ])\n",
        "  if models:\n",
        "    colors = ['g' , 'k' , 'b' , 'm' , 'r']\n",
        "    linestyles = ['-' , '-.' , '--' , ':' , '-']\n",
        "\n",
        "    \n",
        "    mx =  np.linspace(0, x[-1],1000)\n",
        "    for model ,style ,color in zip(models , linestyles , colors):\n",
        "      plt.plot(mx ,model(mx) , linestyle = style , linewidth = 2 , c = color)\n",
        "    \n",
        "    plt.legend([\"d = %i\" %m.order for m in models], loc = \"upper left\")\n",
        "    \n",
        "    plt.autoscale(tight = True)\n",
        "    plt.grid()"
      ],
      "metadata": {
        "id": "sUiPXXp0np5O"
      },
      "execution_count": 38,
      "outputs": []
    },
    {
      "cell_type": "code",
      "source": [
        "%matplotlib inline\n",
        "plot_web_traffic(x , y)"
      ],
      "metadata": {
        "colab": {
          "base_uri": "https://localhost:8080/",
          "height": 404
        },
        "id": "RC8qCx2GqKNm",
        "outputId": "6e9e64e8-13c0-47ab-adfa-91a0f46de496"
      },
      "execution_count": 39,
      "outputs": [
        {
          "output_type": "display_data",
          "data": {
            "text/plain": [
              "<Figure size 864x432 with 1 Axes>"
            ],
            "image/png": "[encoded data removed]"
          },
          "metadata": {
            "needs_background": "light"
          }
        }
      ]
    },
    {
      "cell_type": "markdown",
      "source": [
        "For saving :\n",
        "\n",
        "\n"
      ],
      "metadata": {
        "id": "y-_AL5yeqiBU"
      }
    },
    {
      "cell_type": "code",
      "source": [
        "plt.savefig(\"web_traffic.png\")"
      ],
      "metadata": {
        "colab": {
          "base_uri": "https://localhost:8080/",
          "height": 35
        },
        "id": "7BsOalvRqal9",
        "outputId": "94d91297-a652-4e11-fa01-4e66ab7ae7e9"
      },
      "execution_count": 40,
      "outputs": [
        {
          "output_type": "display_data",
          "data": {
            "text/plain": [
              "<Figure size 432x288 with 0 Axes>"
            ]
          },
          "metadata": {}
        }
      ]
    },
    {
      "cell_type": "markdown",
      "source": [
        "### Choosing the right model and learning algorithm ###\n",
        "\n"
      ],
      "metadata": {
        "id": "avQB3JHfq7rx"
      }
    },
    {
      "cell_type": "markdown",
      "source": [
        "We will use scipy's polynomial fiting functions"
      ],
      "metadata": {
        "id": "3qxfYkQJrxuH"
      }
    },
    {
      "cell_type": "code",
      "source": [
        "fp1 = np.polyfit(x , y ,1)\n",
        "fp1"
      ],
      "metadata": {
        "colab": {
          "base_uri": "https://localhost:8080/"
        },
        "id": "KEuhSnAcquuH",
        "outputId": "ccd9d727-d5f0-466a-d201-abef88386dde"
      },
      "execution_count": 41,
      "outputs": [
        {
          "output_type": "execute_result",
          "data": {
            "text/plain": [
              "array([  2.58462016, 996.50674246])"
            ]
          },
          "metadata": {},
          "execution_count": 41
        }
      ]
    },
    {
      "cell_type": "code",
      "source": [
        "print(\"Model parameters: %s\" % fp1)"
      ],
      "metadata": {
        "colab": {
          "base_uri": "https://localhost:8080/"
        },
        "id": "lagooEB2rKeH",
        "outputId": "3f88436d-8b23-4073-8e41-401595ee5c11"
      },
      "execution_count": 42,
      "outputs": [
        {
          "output_type": "stream",
          "name": "stdout",
          "text": [
            "Model parameters: [  2.58462016 996.50674246]\n"
          ]
        }
      ]
    },
    {
      "cell_type": "markdown",
      "source": [
        "using squared distance as error"
      ],
      "metadata": {
        "id": "Vr3jkzJxsJff"
      }
    },
    {
      "cell_type": "code",
      "source": [
        "def error(f,x,y):\n",
        "  return np.sum((f(x) - y) ** 2)"
      ],
      "metadata": {
        "id": "IvJHA-3grfE4"
      },
      "execution_count": 43,
      "outputs": []
    },
    {
      "cell_type": "code",
      "source": [
        "f1 = np.poly1d(fp1)\n",
        "print(error(f1,x,y))"
      ],
      "metadata": {
        "colab": {
          "base_uri": "https://localhost:8080/"
        },
        "id": "mHAvSdWFsU6n",
        "outputId": "ba2d8027-709c-4470-88ef-51afe5380775"
      },
      "execution_count": 44,
      "outputs": [
        {
          "output_type": "stream",
          "name": "stdout",
          "text": [
            "319531507.0208318\n"
          ]
        }
      ]
    },
    {
      "cell_type": "code",
      "source": [
        "plot_web_traffic(x , y , [f1])"
      ],
      "metadata": {
        "colab": {
          "base_uri": "https://localhost:8080/",
          "height": 404
        },
        "id": "rfOmeRyutC96",
        "outputId": "dfb3e54c-1faa-4447-f376-9565a9f300d8"
      },
      "execution_count": 45,
      "outputs": [
        {
          "output_type": "display_data",
          "data": {
            "text/plain": [
              "<Figure size 864x432 with 1 Axes>"
            ],
            "image/png": "[encoded data removed]"
          },
          "metadata": {
            "needs_background": "light"
          }
        }
      ]
    },
    {
      "cell_type": "markdown",
      "source": [
        "Lets now fit a more complex model, a polynomial of degree 2 , to see whether it better understands our data."
      ],
      "metadata": {
        "id": "RA_BEluEtqYa"
      }
    },
    {
      "cell_type": "code",
      "source": [
        "f2p = np.polyfit(x , y ,2)\n",
        "f2p"
      ],
      "metadata": {
        "colab": {
          "base_uri": "https://localhost:8080/"
        },
        "id": "bhDxj-U_tNr7",
        "outputId": "0e635c7f-6742-4a14-f189-79cf5f3be6bb"
      },
      "execution_count": 46,
      "outputs": [
        {
          "output_type": "execute_result",
          "data": {
            "text/plain": [
              "array([ 1.05605675e-02, -5.29774287e+00,  1.98466917e+03])"
            ]
          },
          "metadata": {},
          "execution_count": 46
        }
      ]
    },
    {
      "cell_type": "code",
      "source": [
        "f2 = np.poly1d(f2p)\n",
        "error(f2,x,y)"
      ],
      "metadata": {
        "colab": {
          "base_uri": "https://localhost:8080/"
        },
        "id": "cSWLk003t3bX",
        "outputId": "ecf52656-a463-42c9-c70e-837eca247647"
      },
      "execution_count": 47,
      "outputs": [
        {
          "output_type": "execute_result",
          "data": {
            "text/plain": [
              "181347660.75761026"
            ]
          },
          "metadata": {},
          "execution_count": 47
        }
      ]
    },
    {
      "cell_type": "code",
      "source": [
        "plot_web_traffic(x , y , [f1,f2])"
      ],
      "metadata": {
        "colab": {
          "base_uri": "https://localhost:8080/",
          "height": 404
        },
        "id": "NbZlFgr4t70N",
        "outputId": "52814d14-c99b-4ba8-b4f4-c520b94dc488"
      },
      "execution_count": 48,
      "outputs": [
        {
          "output_type": "display_data",
          "data": {
            "text/plain": [
              "<Figure size 864x432 with 1 Axes>"
            ],
            "image/png": "[encoded data removed]"
          },
          "metadata": {
            "needs_background": "light"
          }
        }
      ]
    },
    {
      "cell_type": "markdown",
      "source": [
        "Lets increase the complexity and try degree 3,10 and 100"
      ],
      "metadata": {
        "id": "nGLS9xOhuq_V"
      }
    },
    {
      "cell_type": "code",
      "source": [
        "f3 = np.poly1d(np.polyfit(x, y, 3))\n",
        "f10 = np.poly1d(np.polyfit(x,y,10))\n",
        "f100 = np.poly1d(np.polyfit(x , y , 100))\n",
        "\n",
        "plot_web_traffic(x , y , [f1,f2 ,f3,f10 ,f100])\n",
        "\n",
        "\n",
        "\n"
      ],
      "metadata": {
        "colab": {
          "base_uri": "https://localhost:8080/",
          "height": 511
        },
        "id": "69yAxxDiuJnr",
        "outputId": "6edfb70c-1155-4729-bd27-d009be8f6404"
      },
      "execution_count": 49,
      "outputs": [
        {
          "output_type": "stream",
          "name": "stderr",
          "text": [
            "/usr/local/lib/python3.7/dist-packages/numpy/lib/polynomial.py:658: RuntimeWarning: overflow encountered in multiply\n",
            "  scale = NX.sqrt((lhs*lhs).sum(axis=0))\n",
            "/usr/local/lib/python3.7/dist-packages/numpy/core/_methods.py:48: RuntimeWarning: overflow encountered in reduce\n",
            "  return umr_sum(a, axis, dtype, out, keepdims, initial, where)\n",
            "/usr/local/lib/python3.7/dist-packages/IPython/core/interactiveshell.py:2882: RankWarning: Polyfit may be poorly conditioned\n",
            "  exec(code_obj, self.user_global_ns, self.user_ns)\n"
          ]
        },
        {
          "output_type": "display_data",
          "data": {
            "text/plain": [
              "<Figure size 864x432 with 1 Axes>"
            ],
            "image/png": "[encoded data removed]"
          },
          "metadata": {
            "needs_background": "light"
          }
        }
      ]
    },
    {
      "cell_type": "code",
      "source": [
        "print(\"Errors for the complete data set:\")\n",
        "for f in [f1,f2,f3,f10,f100]:\n",
        "  print(\"td=%i : %f\" %(f.order , error(f,x,y)))"
      ],
      "metadata": {
        "colab": {
          "base_uri": "https://localhost:8080/"
        },
        "id": "zcrleZstvCty",
        "outputId": "5b7a3d1a-0dce-450c-b5d6-1226edabb311"
      },
      "execution_count": 50,
      "outputs": [
        {
          "output_type": "stream",
          "name": "stdout",
          "text": [
            "Errors for the complete data set:\n",
            "td=1 : 319531507.020832\n",
            "td=2 : 181347660.757610\n",
            "td=3 : 140576460.879682\n",
            "td=10 : 123426935.751807\n",
            "td=53 : 110768258.483735\n"
          ]
        }
      ]
    },
    {
      "cell_type": "markdown",
      "source": [
        "Out of the five fitted models, the first-order model is clearly too simple, and the models of order 10 and 53 are clearly overfitting. Only the second- and third-order models seem to somehow match the data. However, if we extrapolate them at both borders, we see them going berserk."
      ],
      "metadata": {
        "id": "VhDwHBSOwLsS"
      }
    },
    {
      "cell_type": "markdown",
      "source": [
        "#### Stepping back to go forward - another look at our data ####\n",
        "* finding the inflection point between weeks 3 and 4 . let's separate the data and train two lines using week 3.5 as a separation point:\n"
      ],
      "metadata": {
        "id": "wCETxfKYwPti"
      }
    },
    {
      "cell_type": "code",
      "source": [
        "inflection = int(3.5 * 7 * 24) # calculate the inflection point in hours\n",
        "xa = x[:inflection] # data before the inflection point\n",
        "ya = y[:inflection]\n",
        "xb = x[inflection:] # data after\n",
        "yb = y[inflection:]\n",
        "\n",
        "fa = np.poly1d(np.polyfit(xa,ya,1))\n",
        "fb = np.poly1d(np.polyfit(xb, yb ,1))\n",
        "\n",
        "fa_error = error(fa,xa,ya)\n",
        "fb_error = error(fb,xb , yb)\n",
        "print(f\"Error inflection = \",(fa_error + fb_error))"
      ],
      "metadata": {
        "colab": {
          "base_uri": "https://localhost:8080/"
        },
        "id": "wHzFEwbTvllt",
        "outputId": "03b3fb50-1291-4113-ffd8-2dc4f40052a1"
      },
      "execution_count": 51,
      "outputs": [
        {
          "output_type": "stream",
          "name": "stdout",
          "text": [
            "Error inflection =  134390576.31295496\n"
          ]
        }
      ]
    },
    {
      "cell_type": "markdown",
      "source": [
        "These two lines seems to be a much better fit to the data than the previous model."
      ],
      "metadata": {
        "id": "oKkBPgV9ybP7"
      }
    },
    {
      "cell_type": "code",
      "source": [
        "fa = np.poly1d(np.polyfit(xa, ya, 1))\n",
        "fb = np.poly1d(np.polyfit(xb, yb, 1))\n",
        "\n",
        "plot_web_traffic(x, y, [fa, fb])"
      ],
      "metadata": {
        "colab": {
          "base_uri": "https://localhost:8080/",
          "height": 404
        },
        "id": "ICJ45rHOx2KV",
        "outputId": "37031970-5dac-4ca3-c6a4-14f18e35adc4"
      },
      "execution_count": 52,
      "outputs": [
        {
          "output_type": "display_data",
          "data": {
            "text/plain": [
              "<Figure size 864x432 with 1 Axes>"
            ],
            "image/png": "[encoded data removed]"
          },
          "metadata": {
            "needs_background": "light"
          }
        }
      ]
    }
  ]
}