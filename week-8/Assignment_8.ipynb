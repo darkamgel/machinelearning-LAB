{
  "nbformat": 4,
  "nbformat_minor": 0,
  "metadata": {
    "colab": {
      "provenance": []
    },
    "kernelspec": {
      "name": "python3",
      "display_name": "Python 3"
    },
    "language_info": {
      "name": "python"
    },
    "accelerator": "GPU"
  },
  "cells": [
    {
      "cell_type": "markdown",
      "source": [
        "Name : Sanjeev Kumar Khatri\n",
        "\n",
        "Roll no : 23\n",
        "\n",
        "Group : CS\n",
        "\n",
        "Assignment : 08\n",
        "\n",
        "Githublink : https://github.com/darkamgel/machinelearning-LAB\n",
        "\n",
        "Practical Assignment - 8\n",
        "\n",
        "1. Deep Learning with Convolution Neural Networks \n",
        "2. Building a perceptron-based linear regressor \n",
        "3. Building an image classifier using a single layer neural network \n",
        "4. Building an image classifier using a Convolution Neural Network \n",
        "5. CNN on CIFAR10 Dataset \n",
        "6. CNN on MNIST Dataset \n",
        "7. Visualization of Layers\n",
        "\n",
        "books :\n",
        "   Chapter 16 – Artificial Intelligence with \n",
        "Python \n",
        "\n",
        "\n",
        "  Chapter 6 – Mastering Machine Learning \n",
        "with Python in Six Steps\n",
        "\n"
      ],
      "metadata": {
        "id": "ByVYerzvjtvf"
      }
    },
    {
      "cell_type": "markdown",
      "source": [
        "#Convolution Neural Networks\n",
        "\n",
        "Neural networks consist of neurons that have weights and biases. These weights and biases are tuned during the training process to come up with a good learning model. Each neuron receives a set of inputs, processes it in some way, and then outputs a value.\n",
        "\n",
        "If we build a neural network with many layers, it's called a deep neural network. The branch of Artificial Intelligence dealing with these deep neural networks is referred to as deep learning.\n",
        "\n",
        "One of the main disadvantages of ordinary neural networks is that they ignore the structure of input data. All data is converted to a single dimensional array before feeding it into the network. This works well for regular data, but things get difficult when we deal with images.\n",
        "\n",
        "Let's consider grayscale images. These images are 2D structures and we know that the spatial arrangement of pixels has a lot of hidden information. If we ignore this information, we will be losing a lot of underlying patterns. This is where Convolutional Neural Networks (CNNs) come into the picture. CNNs take the 2D structure of the images into account when they process them.\n",
        "\n",
        "CNNs are also made up of neurons consisting of weights and biases. These neurons accept input data, process it, and then output something. The goal of the network is to go from the raw image data in the input layer to the correct class in the output layer. The difference between ordinary neural networks and CNNs is in the type of layers we use and how we treat the input data. CNNs assume that the inputs are images, which allows them to extract properties specific to images. This makes CNNs way more efficient in dealing with images. Let's see how CNNs are built.\n",
        "\n"
      ],
      "metadata": {
        "id": "szS8FJ-mkpNR"
      }
    },
    {
      "cell_type": "markdown",
      "source": [
        "## Types of layers in a CNN\n",
        "1. Input layer: This layer takes the raw image data as it is.\n",
        "\n",
        "2. Convolutional layer: This layer computes the convolutions between the neurons and the various patches in the input. If we need a quick refresher on image convolutions, we can check out this link:\n",
        "http://web.pdx.edu/~jduh/courses/Archive/geog481w07/Students/Ludwig_Im ageConvolution.pdf. The convolutional layer basically computes the dot product between the weights and a small patch in the output of the previous layer. \n",
        "\n",
        "3. Rectified Linear Unit layer: This layer applies an activation function to the output of the previous layer. This function is usually something like max(0, x). This layer is needed to add non-linearity to the network so that it can generalize well to any type of function.\n",
        "\n",
        "4. Pooling layer: This layer samples the output of the previous layer resulting in a structure with smaller dimensions. Pooling helps us to keep only the prominent parts as we progress in the network. Max pooling is frequently used in the pooling layer where we pick the maximum value in a given KxK window.\n",
        "\n",
        "5. Fully Connected layer: This layer computes the output scores in the last layer. The resulting output is of the size 1x1xL, where L is the number of classes in the training dataset."
      ],
      "metadata": {
        "id": "HPDphNNVlIRS"
      }
    },
    {
      "cell_type": "markdown",
      "source": [
        "# Building a perceptron-based linear regressor\n",
        "\n",
        "We will be using TensorFlow . It is a popular deep learning package that's widely used to build various real world systems. In this , we will get familiar with how it works. "
      ],
      "metadata": {
        "id": "Yw_A_jvDlkc_"
      }
    },
    {
      "cell_type": "code",
      "execution_count": 2,
      "metadata": {
        "colab": {
          "base_uri": "https://localhost:8080/",
          "height": 1000
        },
        "id": "ImSP0DL4jfD2",
        "outputId": "82914a94-115e-4c7f-f636-2570092b2360"
      },
      "outputs": [
        {
          "output_type": "display_data",
          "data": {
            "text/plain": [
              "<Figure size 432x288 with 1 Axes>"
            ],
            "image/png": "[encoded data removed]"
          },
          "metadata": {
            "needs_background": "light"
          }
        },
        {
          "output_type": "stream",
          "name": "stdout",
          "text": [
            "\n",
            "ITERATION 1\n",
            "W = 0.0052277744\n",
            "b = 0.49469915\n",
            "loss = 0.027376639\n"
          ]
        },
        {
          "output_type": "display_data",
          "data": {
            "text/plain": [
              "<Figure size 432x288 with 1 Axes>"
            ],
            "image/png": "[encoded data removed]"
          },
          "metadata": {
            "needs_background": "light"
          }
        },
        {
          "output_type": "stream",
          "name": "stdout",
          "text": [
            "\n",
            "ITERATION 2\n",
            "W = 0.13771684\n",
            "b = 0.49820808\n",
            "loss = 0.004169562\n"
          ]
        },
        {
          "output_type": "display_data",
          "data": {
            "text/plain": [
              "<Figure size 432x288 with 1 Axes>"
            ],
            "image/png": "[encoded data removed]"
          },
          "metadata": {
            "needs_background": "light"
          }
        },
        {
          "output_type": "stream",
          "name": "stdout",
          "text": [
            "\n",
            "ITERATION 3\n",
            "W = 0.18026623\n",
            "b = 0.49937236\n",
            "loss = 0.0017758725\n"
          ]
        },
        {
          "output_type": "display_data",
          "data": {
            "text/plain": [
              "<Figure size 432x288 with 1 Axes>"
            ],
            "image/png": "[encoded data removed]"
          },
          "metadata": {
            "needs_background": "light"
          }
        },
        {
          "output_type": "stream",
          "name": "stdout",
          "text": [
            "\n",
            "ITERATION 4\n",
            "W = 0.19393148\n",
            "b = 0.4997463\n",
            "loss = 0.0015289756\n"
          ]
        },
        {
          "output_type": "display_data",
          "data": {
            "text/plain": [
              "<Figure size 432x288 with 1 Axes>"
            ],
            "image/png": "[encoded data removed]"
          },
          "metadata": {
            "needs_background": "light"
          }
        },
        {
          "output_type": "stream",
          "name": "stdout",
          "text": [
            "\n",
            "ITERATION 5\n",
            "W = 0.19832022\n",
            "b = 0.4998664\n",
            "loss = 0.0015035094\n"
          ]
        },
        {
          "output_type": "display_data",
          "data": {
            "text/plain": [
              "<Figure size 432x288 with 1 Axes>"
            ],
            "image/png": "[encoded data removed]"
          },
          "metadata": {
            "needs_background": "light"
          }
        },
        {
          "output_type": "stream",
          "name": "stdout",
          "text": [
            "\n",
            "ITERATION 6\n",
            "W = 0.19972973\n",
            "b = 0.49990496\n",
            "loss = 0.0015008827\n"
          ]
        },
        {
          "output_type": "display_data",
          "data": {
            "text/plain": [
              "<Figure size 432x288 with 1 Axes>"
            ],
            "image/png": "[encoded data removed]"
          },
          "metadata": {
            "needs_background": "light"
          }
        },
        {
          "output_type": "stream",
          "name": "stdout",
          "text": [
            "\n",
            "ITERATION 7\n",
            "W = 0.20018241\n",
            "b = 0.49991733\n",
            "loss = 0.0015006117\n"
          ]
        },
        {
          "output_type": "display_data",
          "data": {
            "text/plain": [
              "<Figure size 432x288 with 1 Axes>"
            ],
            "image/png": "[encoded data removed]"
          },
          "metadata": {
            "needs_background": "light"
          }
        },
        {
          "output_type": "stream",
          "name": "stdout",
          "text": [
            "\n",
            "ITERATION 8\n",
            "W = 0.20032778\n",
            "b = 0.49992132\n",
            "loss = 0.0015005838\n"
          ]
        },
        {
          "output_type": "display_data",
          "data": {
            "text/plain": [
              "<Figure size 432x288 with 1 Axes>"
            ],
            "image/png": "[encoded data removed]"
          },
          "metadata": {
            "needs_background": "light"
          }
        },
        {
          "output_type": "stream",
          "name": "stdout",
          "text": [
            "\n",
            "ITERATION 9\n",
            "W = 0.20037448\n",
            "b = 0.4999226\n",
            "loss = 0.0015005809\n"
          ]
        },
        {
          "output_type": "display_data",
          "data": {
            "text/plain": [
              "<Figure size 432x288 with 1 Axes>"
            ],
            "image/png": "[encoded data removed]"
          },
          "metadata": {
            "needs_background": "light"
          }
        },
        {
          "output_type": "stream",
          "name": "stdout",
          "text": [
            "\n",
            "ITERATION 10\n",
            "W = 0.20038947\n",
            "b = 0.499923\n",
            "loss = 0.0015005807\n"
          ]
        },
        {
          "output_type": "display_data",
          "data": {
            "text/plain": [
              "<Figure size 432x288 with 1 Axes>"
            ],
            "image/png": "[encoded data removed]"
          },
          "metadata": {
            "needs_background": "light"
          }
        }
      ],
      "source": [
        "import numpy as np\n",
        "import matplotlib.pyplot as plt\n",
        "import tensorflow.compat.v1 as tf\n",
        "tf.disable_v2_behavior()\n",
        "\n",
        "# generating some datapoints and see how we can fit a model to it. Define the number of datapoints to be generated:\n",
        "# # Define the number of points to generate\n",
        "\n",
        "num_points = 1200\n",
        "\n",
        "# Generate the data based on equation y = mx + c\n",
        "\n",
        "data = []\n",
        "m = 0.2\n",
        "c = 0.5\n",
        "for i in range(num_points):\n",
        "   # Generate 'x'\n",
        "    x = np.random.normal(0.0, 0.8)\n",
        "  # Generate some noise\n",
        "    noise = np.random.normal(0.0, 0.04)\n",
        "  # Compute 'y'\n",
        "    y = m*x + c + noise \n",
        "\n",
        "    data.append([x, y])\n",
        "\n",
        "# Separate x and y\n",
        "x_data = [d[0] for d in data]\n",
        "y_data = [d[1] for d in data]\n",
        "\n",
        "\n",
        "# Plot the generated data\n",
        "plt.plot(x_data, y_data, 'ro')\n",
        "plt.title('Input data')\n",
        "plt.show()\n",
        "\n",
        "# Generate weights and biases\n",
        "W = tf.Variable(tf.random.uniform([1], -1.0, 1.0))\n",
        "b = tf.Variable(tf.zeros([1]))\n",
        "\n",
        "# Define equation for 'y'\n",
        "y = W * x_data + b\n",
        "\n",
        "# Define how to compute the loss\n",
        "loss = tf.reduce_mean(tf.square(y - y_data))\n",
        "\n",
        " # Define the gradient descent optimizer\n",
        "optimizer = tf.train.GradientDescentOptimizer(0.5)\n",
        "train = optimizer.minimize(loss)\n",
        "\n",
        "# Initialize all the variables\n",
        "init = tf.initialize_all_variables()\n",
        "\n",
        "# Start the tensorflow session and run it\n",
        "sess = tf.Session()\n",
        "sess.run(init)\n",
        "\n",
        "# Start iterating\n",
        "num_iterations = 10\n",
        "for step in range(num_iterations):\n",
        "    sess.run(train)\n",
        "  # Print the progress\n",
        "    print('\\nITERATION', step+1)\n",
        "    print('W =', sess.run(W)[0])\n",
        "    print('b =', sess.run(b)[0])\n",
        "    print('loss =', sess.run(loss))\n",
        "     # Plot the input data\n",
        "    plt.plot(x_data, y_data, 'ro')\n",
        "     # Plot the predicted output line\n",
        "    plt.plot(x_data, sess.run(W) * x_data + sess.run(b))\n",
        "    # Set plotting parameters\n",
        "    plt.xlabel('Dimension 0')\n",
        "    plt.ylabel('Dimension 1')\n",
        "    plt.title('Iteration ' + str(step+1) + ' of ' + str(num_iterations))\n",
        "    plt.show()"
      ]
    },
    {
      "cell_type": "markdown",
      "source": [
        "# Building an image classifier using a single layer neural network\n",
        "\n",
        "Let's see how to create a single layer neural network using TensorFlow and use it to build an image classifier. We will be using MNIST image dataset to build our system. It is dataset containing handwritten images of digits. Our goal is to build a classifier that can correctly identify the digit in each image"
      ],
      "metadata": {
        "id": "rkuSnBUwm9Xb"
      }
    },
    {
      "cell_type": "code",
      "source": [
        "import tensorflow as tf\n",
        "import numpy as np\n",
        "import matplotlib.pyplot as plt\n",
        "import seaborn as sns\n",
        "!pip install plotly\n",
        "import plotly\n",
        "import plotly.express as px\n",
        "from mpl_toolkits.mplot3d import Axes3D"
      ],
      "metadata": {
        "colab": {
          "base_uri": "https://localhost:8080/"
        },
        "id": "nBTTCsGGlxzB",
        "outputId": "de72da01-82da-476a-c2c0-8d501a44dc74"
      },
      "execution_count": 3,
      "outputs": [
        {
          "output_type": "stream",
          "name": "stdout",
          "text": [
            "Looking in indexes: https://pypi.org/simple, https://us-python.pkg.dev/colab-wheels/public/simple/\n",
            "Requirement already satisfied: plotly in /usr/local/lib/python3.7/dist-packages (5.5.0)\n",
            "Requirement already satisfied: six in /usr/local/lib/python3.7/dist-packages (from plotly) (1.15.0)\n",
            "Requirement already satisfied: tenacity>=6.2.0 in /usr/local/lib/python3.7/dist-packages (from plotly) (8.0.1)\n"
          ]
        }
      ]
    },
    {
      "cell_type": "code",
      "source": [
        "mnist = tf.keras.datasets.mnist\n",
        "\n",
        "(x_train, y_train), (x_test, y_test) = mnist.load_data()\n",
        "x_train, x_test = x_train / 255.0, x_test / 255.0\n",
        "\n",
        "print(\"shape of x_train: \", x_train.shape)\n",
        "print(\"shape of x_test: \", x_test.shape)"
      ],
      "metadata": {
        "colab": {
          "base_uri": "https://localhost:8080/"
        },
        "id": "Mn2ccVsonHeg",
        "outputId": "5e76c365-b28b-4c6f-c040-a21a170f812c"
      },
      "execution_count": 4,
      "outputs": [
        {
          "output_type": "stream",
          "name": "stdout",
          "text": [
            "Downloading data from https://storage.googleapis.com/tensorflow/tf-keras-datasets/mnist.npz\n",
            "11493376/11490434 [==============================] - 0s 0us/step\n",
            "11501568/11490434 [==============================] - 0s 0us/step\n",
            "shape of x_train:  (60000, 28, 28)\n",
            "shape of x_test:  (10000, 28, 28)\n"
          ]
        }
      ]
    },
    {
      "cell_type": "markdown",
      "source": [
        "The images in the database are 28 x 28. We need to convert it to a single dimensional array to create the input layer:"
      ],
      "metadata": {
        "id": "jZR68psqnZVo"
      }
    },
    {
      "cell_type": "code",
      "source": [
        "model = tf.keras.models.Sequential([\n",
        "    tf.keras.layers.Flatten(input_shape=(28, 28)),\n",
        "    tf.keras.layers.Dense(128, activation= 'relu'),\n",
        "    tf.keras.layers.Dropout(0.2),\n",
        "    tf.keras.layers.Dense(10, activation='softmax')\n",
        "])\n"
      ],
      "metadata": {
        "id": "x8gP9pDTnVK9"
      },
      "execution_count": 5,
      "outputs": []
    },
    {
      "cell_type": "code",
      "source": [
        "model.compile(optimizer='adam',\n",
        "              loss='sparse_categorical_crossentropy',\n",
        "              metrics=['accuracy'])\n",
        "\n"
      ],
      "metadata": {
        "id": "DqwRL1XRndN6"
      },
      "execution_count": 6,
      "outputs": []
    },
    {
      "cell_type": "code",
      "source": [
        "r = model.fit(x_train, y_train, validation_data=(x_test, y_test), epochs=10)"
      ],
      "metadata": {
        "colab": {
          "base_uri": "https://localhost:8080/"
        },
        "id": "4us6uyEvnfFj",
        "outputId": "67846ae7-1393-4ba0-9f07-093c66bcd622"
      },
      "execution_count": 7,
      "outputs": [
        {
          "output_type": "stream",
          "name": "stdout",
          "text": [
            "Train on 60000 samples, validate on 10000 samples\n",
            "Epoch 1/10\n",
            "59264/60000 [============================>.] - ETA: 0s - loss: 0.2983 - acc: 0.9143"
          ]
        },
        {
          "output_type": "stream",
          "name": "stderr",
          "text": [
            "/usr/local/lib/python3.7/dist-packages/keras/engine/training_v1.py:2057: UserWarning: `Model.state_updates` will be removed in a future version. This property should not be used in TensorFlow 2.0, as `updates` are applied automatically.\n",
            "  updates = self.state_updates\n"
          ]
        },
        {
          "output_type": "stream",
          "name": "stdout",
          "text": [
            "\b\b\b\b\b\b\b\b\b\b\b\b\b\b\b\b\b\b\b\b\b\b\b\b\b\b\b\b\b\b\b\b\b\b\b\b\b\b\b\b\b\b\b\b\b\b\b\b\b\b\b\b\b\b\b\b\b\b\b\b\b\b\b\b\b\b\b\b\b\b\b\b\b\b\b\b\b\b\b\b\b\b\b\r60000/60000 [==============================] - 6s 108us/sample - loss: 0.2969 - acc: 0.9147 - val_loss: 0.1385 - val_acc: 0.9578\n",
            "Epoch 2/10\n",
            "60000/60000 [==============================] - 4s 65us/sample - loss: 0.1405 - acc: 0.9578 - val_loss: 0.1004 - val_acc: 0.9713\n",
            "Epoch 3/10\n",
            "60000/60000 [==============================] - 4s 66us/sample - loss: 0.1069 - acc: 0.9680 - val_loss: 0.0929 - val_acc: 0.9711\n",
            "Epoch 4/10\n",
            "60000/60000 [==============================] - 4s 66us/sample - loss: 0.0876 - acc: 0.9731 - val_loss: 0.0803 - val_acc: 0.9750\n",
            "Epoch 5/10\n",
            "60000/60000 [==============================] - 4s 65us/sample - loss: 0.0738 - acc: 0.9768 - val_loss: 0.0712 - val_acc: 0.9783\n",
            "Epoch 6/10\n",
            "60000/60000 [==============================] - 4s 66us/sample - loss: 0.0650 - acc: 0.9794 - val_loss: 0.0720 - val_acc: 0.9784\n",
            "Epoch 7/10\n",
            "60000/60000 [==============================] - 4s 69us/sample - loss: 0.0578 - acc: 0.9810 - val_loss: 0.0674 - val_acc: 0.9806\n",
            "Epoch 8/10\n",
            "60000/60000 [==============================] - 4s 65us/sample - loss: 0.0525 - acc: 0.9827 - val_loss: 0.0743 - val_acc: 0.9784\n",
            "Epoch 9/10\n",
            "60000/60000 [==============================] - 4s 64us/sample - loss: 0.0478 - acc: 0.9844 - val_loss: 0.0717 - val_acc: 0.9786\n",
            "Epoch 10/10\n",
            "60000/60000 [==============================] - 4s 65us/sample - loss: 0.0436 - acc: 0.9856 - val_loss: 0.0696 - val_acc: 0.9803\n"
          ]
        }
      ]
    },
    {
      "cell_type": "code",
      "source": [
        "plt.plot(r.history['loss'], label= 'loss')\n",
        "plt.plot(r.history['val_loss'], label= 'val_loss')\n",
        "plt.legend();"
      ],
      "metadata": {
        "colab": {
          "base_uri": "https://localhost:8080/",
          "height": 265
        },
        "id": "l7YELehjnh_1",
        "outputId": "4bd328e4-e692-4663-ce2e-dc78e4fb9d49"
      },
      "execution_count": 9,
      "outputs": [
        {
          "output_type": "display_data",
          "data": {
            "text/plain": [
              "<Figure size 432x288 with 1 Axes>"
            ],
            "image/png": "[encoded data removed]"
          },
          "metadata": {
            "needs_background": "light"
          }
        }
      ]
    },
    {
      "cell_type": "code",
      "source": [
        "print(model.evaluate(x_test, y_test))"
      ],
      "metadata": {
        "colab": {
          "base_uri": "https://localhost:8080/"
        },
        "id": "C66JkDYGoCWS",
        "outputId": "e5c99fa1-1388-4a09-eb61-05a96ab11c2c"
      },
      "execution_count": 10,
      "outputs": [
        {
          "output_type": "stream",
          "name": "stdout",
          "text": [
            "[0.06962814866753761, 0.9803]\n"
          ]
        }
      ]
    },
    {
      "cell_type": "code",
      "source": [
        "from sklearn.metrics import confusion_matrix\n",
        "import itertools\n",
        "\n",
        "def plot_confusion_matrix(cm, classes,\n",
        "                          normalize = False,\n",
        "                          title=\"Confusion Matrix\",\n",
        "                          cmap = plt.cm.Blues):\n",
        "  \n",
        "  \"\"\"\n",
        "  This function prints and plots the confusion matrix.\n",
        "  Normalize can be applied by setting 'normalize = True'\n",
        "  \"\"\"\n",
        "  \n",
        "  if normalize:\n",
        "    cm = cm.astype('float') / cm.sum(axis=1)[:,np.newaxis]\n",
        "    print(\"Normalized Confusion Matrix\")\n",
        "  \n",
        "  else:\n",
        "    print(\"Confusion matrix without normalization\")\n",
        "  \n",
        "  print(cm)\n",
        "\n",
        "  plt.imshow(cm, interpolation='nearest', cmap=cmap)\n",
        "  plt.title(title)\n",
        "  plt.colorbar()\n",
        "  tick_marks = np.arange(len(classes))\n",
        "  plt.xticks(tick_marks, classes, rotation=45)\n",
        "  plt.yticks(tick_marks, classes)\n",
        "\n",
        "  fmt = '.2f' if normalize else 'd'\n",
        "  thresh = cm.max() / 2.\n",
        "  for i, j in itertools.product(range(cm.shape[0]), range(cm.shape[1])):\n",
        "    plt.text(j, i, format(cm[i, j], fmt),\n",
        "             horizontalalignment = 'center',\n",
        "             color = \"white\" if cm[i, j] > thresh else \"black\")\n",
        "    \n",
        "  plt.tight_layout()\n",
        "  plt.ylabel('True label')\n",
        "  plt.xlabel('Predicted label')\n",
        "  plt.show()\n",
        "\n",
        "p_test = model.predict(x_test).argmax(axis=1)\n",
        "cm = confusion_matrix(y_test, p_test)\n",
        "plot_confusion_matrix(cm, list(range(10)))"
      ],
      "metadata": {
        "colab": {
          "base_uri": "https://localhost:8080/",
          "height": 552
        },
        "id": "S1j3KqqmoLo7",
        "outputId": "c1fb8a43-b1d3-4346-92be-c4111ee05868"
      },
      "execution_count": 11,
      "outputs": [
        {
          "output_type": "stream",
          "name": "stderr",
          "text": [
            "/usr/local/lib/python3.7/dist-packages/keras/engine/training_v1.py:2079: UserWarning: `Model.state_updates` will be removed in a future version. This property should not be used in TensorFlow 2.0, as `updates` are applied automatically.\n",
            "  updates=self.state_updates,\n"
          ]
        },
        {
          "output_type": "stream",
          "name": "stdout",
          "text": [
            "Confusion matrix without normalization\n",
            "[[ 967    0    1    3    0    1    3    3    1    1]\n",
            " [   0 1129    2    1    0    0    1    0    2    0]\n",
            " [   1    1 1012    2    1    0    2    6    6    1]\n",
            " [   0    0    4  990    0    6    0    6    3    1]\n",
            " [   1    0    2    0  964    0    3    4    1    7]\n",
            " [   2    0    0    6    1  874    2    1    4    2]\n",
            " [   3    3    1    1    5    6  938    0    1    0]\n",
            " [   1    2    4    2    0    0    0 1014    0    5]\n",
            " [   6    1    3    4    4    7    0    8  938    3]\n",
            " [   1    4    0    5    6    6    1    8    1  977]]\n"
          ]
        },
        {
          "output_type": "display_data",
          "data": {
            "text/plain": [
              "<Figure size 432x288 with 2 Axes>"
            ],
            "image/png": "[encoded data removed]"
          },
          "metadata": {
            "needs_background": "light"
          }
        }
      ]
    },
    {
      "cell_type": "code",
      "source": [
        "misclassified_idx = np.where(p_test != y_test)[0]\n",
        "i = np.random.choice(misclassified_idx)\n",
        "plt.imshow(x_test[i], cmap= 'gray')\n",
        "plt.title(\"True label: %s Predicted: %s\" % (y_test[i], p_test[i]));"
      ],
      "metadata": {
        "colab": {
          "base_uri": "https://localhost:8080/",
          "height": 281
        },
        "id": "3gKnXqO-oNkq",
        "outputId": "1dce2152-0d85-436c-fc6f-4487433cc39b"
      },
      "execution_count": 12,
      "outputs": [
        {
          "output_type": "display_data",
          "data": {
            "text/plain": [
              "<Figure size 432x288 with 1 Axes>"
            ],
            "image/png": "[encoded data removed]"
          },
          "metadata": {
            "needs_background": "light"
          }
        }
      ]
    },
    {
      "cell_type": "markdown",
      "source": [
        "#CNN on CIFAR10 Dataset "
      ],
      "metadata": {
        "id": "sOY6ixQNovCl"
      }
    },
    {
      "cell_type": "code",
      "source": [
        "import tensorflow as tf\n",
        "from tensorflow import keras\n",
        "from tensorflow.keras import datasets, layers, models\n",
        "import matplotlib.pyplot as plt\n",
        "%matplotlib inline\n",
        "import numpy as np"
      ],
      "metadata": {
        "id": "MHglQe3BoTVd"
      },
      "execution_count": 13,
      "outputs": []
    },
    {
      "cell_type": "code",
      "source": [
        "(X_train, y_train) , (X_test, y_test) = keras.datasets.mnist.load_data()"
      ],
      "metadata": {
        "id": "91J3G8WOo2B3"
      },
      "execution_count": 14,
      "outputs": []
    },
    {
      "cell_type": "code",
      "source": [
        "X_train.shape , X_test.shape"
      ],
      "metadata": {
        "colab": {
          "base_uri": "https://localhost:8080/"
        },
        "id": "GoRUzlbso6Wa",
        "outputId": "4e89bb66-b271-437d-b1e7-a7c43097590b"
      },
      "execution_count": 15,
      "outputs": [
        {
          "output_type": "execute_result",
          "data": {
            "text/plain": [
              "((60000, 28, 28), (10000, 28, 28))"
            ]
          },
          "metadata": {},
          "execution_count": 15
        }
      ]
    },
    {
      "cell_type": "code",
      "source": [
        "X_train[0].shape"
      ],
      "metadata": {
        "colab": {
          "base_uri": "https://localhost:8080/"
        },
        "id": "18QxGaFJo-1_",
        "outputId": "47e258ca-cc6b-422d-cbd1-d442f58f379a"
      },
      "execution_count": 16,
      "outputs": [
        {
          "output_type": "execute_result",
          "data": {
            "text/plain": [
              "(28, 28)"
            ]
          },
          "metadata": {},
          "execution_count": 16
        }
      ]
    },
    {
      "cell_type": "code",
      "source": [
        "plt.matshow(X_train[0])"
      ],
      "metadata": {
        "colab": {
          "base_uri": "https://localhost:8080/",
          "height": 292
        },
        "id": "TjKlQR6LpJHr",
        "outputId": "602dddba-a606-49c3-d614-802c7ff78dc1"
      },
      "execution_count": 17,
      "outputs": [
        {
          "output_type": "execute_result",
          "data": {
            "text/plain": [
              "<matplotlib.image.AxesImage at 0x7f47663007d0>"
            ]
          },
          "metadata": {},
          "execution_count": 17
        },
        {
          "output_type": "display_data",
          "data": {
            "text/plain": [
              "<Figure size 288x288 with 1 Axes>"
            ],
            "image/png": "[encoded data removed]"
          },
          "metadata": {
            "needs_background": "light"
          }
        }
      ]
    },
    {
      "cell_type": "code",
      "source": [
        "y_train[0]"
      ],
      "metadata": {
        "colab": {
          "base_uri": "https://localhost:8080/"
        },
        "id": "7YL2tdZTpKs7",
        "outputId": "eb38c575-f082-44ca-c4e9-fd008c44d925"
      },
      "execution_count": 18,
      "outputs": [
        {
          "output_type": "execute_result",
          "data": {
            "text/plain": [
              "5"
            ]
          },
          "metadata": {},
          "execution_count": 18
        }
      ]
    },
    {
      "cell_type": "code",
      "source": [
        "X_train = X_train / 255\n",
        "X_test = X_test / 255\n",
        "\n",
        "model = keras.Sequential([\n",
        "    keras.layers.Flatten(input_shape=(28, 28)),\n",
        "    keras.layers.Dense(100, activation='relu'),\n",
        "    keras.layers.Dense(10, activation='sigmoid')\n",
        "])\n",
        "\n",
        "model.compile(optimizer='adam',\n",
        "              loss='sparse_categorical_crossentropy',\n",
        "              metrics=['accuracy'])\n",
        "\n",
        "model.fit(X_train, y_train, epochs=10)"
      ],
      "metadata": {
        "colab": {
          "base_uri": "https://localhost:8080/"
        },
        "id": "Rd8tJ1PfpNJi",
        "outputId": "ce66b3d3-1439-4074-abe0-b18ad2e0a706"
      },
      "execution_count": 19,
      "outputs": [
        {
          "output_type": "stream",
          "name": "stdout",
          "text": [
            "Train on 60000 samples\n",
            "Epoch 1/10\n",
            "60000/60000 [==============================] - 4s 61us/sample - loss: 0.2733 - acc: 0.9229\n",
            "Epoch 2/10\n",
            "60000/60000 [==============================] - 3s 55us/sample - loss: 0.1218 - acc: 0.9644\n",
            "Epoch 3/10\n",
            "60000/60000 [==============================] - 3s 54us/sample - loss: 0.0855 - acc: 0.9745\n",
            "Epoch 4/10\n",
            "60000/60000 [==============================] - 3s 54us/sample - loss: 0.0642 - acc: 0.9799\n",
            "Epoch 5/10\n",
            "60000/60000 [==============================] - 3s 55us/sample - loss: 0.0514 - acc: 0.9847\n",
            "Epoch 6/10\n",
            "60000/60000 [==============================] - 3s 54us/sample - loss: 0.0404 - acc: 0.9876\n",
            "Epoch 7/10\n",
            "60000/60000 [==============================] - 3s 54us/sample - loss: 0.0336 - acc: 0.9894\n",
            "Epoch 8/10\n",
            "60000/60000 [==============================] - 3s 53us/sample - loss: 0.0276 - acc: 0.9916\n",
            "Epoch 9/10\n",
            "60000/60000 [==============================] - 3s 54us/sample - loss: 0.0229 - acc: 0.9930\n",
            "Epoch 10/10\n",
            "60000/60000 [==============================] - 3s 54us/sample - loss: 0.0194 - acc: 0.9941\n"
          ]
        },
        {
          "output_type": "execute_result",
          "data": {
            "text/plain": [
              "<keras.callbacks.History at 0x7f47663619d0>"
            ]
          },
          "metadata": {},
          "execution_count": 19
        }
      ]
    },
    {
      "cell_type": "code",
      "source": [
        "model.evaluate(X_test,y_test)"
      ],
      "metadata": {
        "colab": {
          "base_uri": "https://localhost:8080/"
        },
        "id": "zS51KxQbpQWv",
        "outputId": "261f9c69-d336-4386-c734-734a217a59cd"
      },
      "execution_count": 20,
      "outputs": [
        {
          "output_type": "stream",
          "name": "stderr",
          "text": [
            "/usr/local/lib/python3.7/dist-packages/keras/engine/training_v1.py:2057: UserWarning: `Model.state_updates` will be removed in a future version. This property should not be used in TensorFlow 2.0, as `updates` are applied automatically.\n",
            "  updates = self.state_updates\n"
          ]
        },
        {
          "output_type": "execute_result",
          "data": {
            "text/plain": [
              "[0.08529447794380395, 0.9779]"
            ]
          },
          "metadata": {},
          "execution_count": 20
        }
      ]
    },
    {
      "cell_type": "code",
      "source": [
        "X_train = X_train.reshape(-1,28,28,1)\n",
        "X_train.shape"
      ],
      "metadata": {
        "colab": {
          "base_uri": "https://localhost:8080/"
        },
        "id": "fW-3m0GOpgJJ",
        "outputId": "69b701ff-9c06-4ce8-fa38-7419b4993f7b"
      },
      "execution_count": 21,
      "outputs": [
        {
          "output_type": "execute_result",
          "data": {
            "text/plain": [
              "(60000, 28, 28, 1)"
            ]
          },
          "metadata": {},
          "execution_count": 21
        }
      ]
    },
    {
      "cell_type": "code",
      "source": [
        "X_test = X_test.reshape(-1,28,28,1)\n",
        "X_test.shape"
      ],
      "metadata": {
        "colab": {
          "base_uri": "https://localhost:8080/"
        },
        "id": "UoztnPO6phtG",
        "outputId": "c5bc5499-e2c7-4114-e883-2d6fa2b0e4cc"
      },
      "execution_count": 22,
      "outputs": [
        {
          "output_type": "execute_result",
          "data": {
            "text/plain": [
              "(10000, 28, 28, 1)"
            ]
          },
          "metadata": {},
          "execution_count": 22
        }
      ]
    },
    {
      "cell_type": "code",
      "source": [
        "model = keras.Sequential([\n",
        "    \n",
        "    layers.Conv2D(30, (3,3), activation='relu', input_shape=(28, 28, 1)),\n",
        "    layers.MaxPooling2D((2,2)),\n",
        " \n",
        "    layers.Flatten(),\n",
        "    layers.Dense(100, activation='relu'),\n",
        "    keras.layers.Dense(10, activation='sigmoid')\n",
        "])"
      ],
      "metadata": {
        "id": "fbPj4f7-pjMo"
      },
      "execution_count": 23,
      "outputs": []
    },
    {
      "cell_type": "code",
      "source": [
        "model.compile(optimizer='adam',\n",
        "              loss='sparse_categorical_crossentropy',\n",
        "              metrics=['accuracy'])\n",
        "\n",
        "model.fit(X_train, y_train, epochs=5)"
      ],
      "metadata": {
        "colab": {
          "base_uri": "https://localhost:8080/"
        },
        "id": "Kc8SerUXplPP",
        "outputId": "725693c9-af8e-4e18-c927-241af73f4ff8"
      },
      "execution_count": 24,
      "outputs": [
        {
          "output_type": "stream",
          "name": "stdout",
          "text": [
            "Train on 60000 samples\n",
            "Epoch 1/5\n",
            "60000/60000 [==============================] - 14s 237us/sample - loss: 0.1634 - acc: 0.9516\n",
            "Epoch 2/5\n",
            "60000/60000 [==============================] - 5s 89us/sample - loss: 0.0572 - acc: 0.9822\n",
            "Epoch 3/5\n",
            "60000/60000 [==============================] - 4s 74us/sample - loss: 0.0373 - acc: 0.9883\n",
            "Epoch 4/5\n",
            "60000/60000 [==============================] - 5s 84us/sample - loss: 0.0262 - acc: 0.9919\n",
            "Epoch 5/5\n",
            "60000/60000 [==============================] - 4s 71us/sample - loss: 0.0188 - acc: 0.9940\n"
          ]
        },
        {
          "output_type": "execute_result",
          "data": {
            "text/plain": [
              "<keras.callbacks.History at 0x7f47661c2ed0>"
            ]
          },
          "metadata": {},
          "execution_count": 24
        }
      ]
    },
    {
      "cell_type": "code",
      "source": [
        "y_train[:5]"
      ],
      "metadata": {
        "colab": {
          "base_uri": "https://localhost:8080/"
        },
        "id": "HxqKmBMBpm-W",
        "outputId": "ad229c8c-8b8b-4e6d-e88f-b115cbb1368f"
      },
      "execution_count": 25,
      "outputs": [
        {
          "output_type": "execute_result",
          "data": {
            "text/plain": [
              "array([5, 0, 4, 1, 9], dtype=uint8)"
            ]
          },
          "metadata": {},
          "execution_count": 25
        }
      ]
    },
    {
      "cell_type": "code",
      "source": [
        "model.evaluate(X_test,y_test)"
      ],
      "metadata": {
        "colab": {
          "base_uri": "https://localhost:8080/"
        },
        "id": "0HDvwLeuprAZ",
        "outputId": "225af5b4-37c6-4479-9b35-cb9cb97afe02"
      },
      "execution_count": 26,
      "outputs": [
        {
          "output_type": "execute_result",
          "data": {
            "text/plain": [
              "[0.052538299112080133, 0.9852]"
            ]
          },
          "metadata": {},
          "execution_count": 26
        }
      ]
    },
    {
      "cell_type": "markdown",
      "source": [
        "loading data"
      ],
      "metadata": {
        "id": "geNY5AHLqF6z"
      }
    },
    {
      "cell_type": "code",
      "source": [
        "(X_train, y_train), (X_test,y_test) = datasets.cifar10.load_data()\n",
        "X_train.shape"
      ],
      "metadata": {
        "colab": {
          "base_uri": "https://localhost:8080/"
        },
        "id": "s2LJj6pXptKs",
        "outputId": "79cf7638-d8f1-465f-dba5-20e6a45c9d12"
      },
      "execution_count": 27,
      "outputs": [
        {
          "output_type": "stream",
          "name": "stdout",
          "text": [
            "Downloading data from https://www.cs.toronto.edu/~kriz/cifar-10-python.tar.gz\n",
            "170500096/170498071 [==============================] - 14s 0us/step\n",
            "170508288/170498071 [==============================] - 14s 0us/step\n"
          ]
        },
        {
          "output_type": "execute_result",
          "data": {
            "text/plain": [
              "(50000, 32, 32, 3)"
            ]
          },
          "metadata": {},
          "execution_count": 27
        }
      ]
    },
    {
      "cell_type": "code",
      "source": [
        "X_test.shape , y_train.shape"
      ],
      "metadata": {
        "colab": {
          "base_uri": "https://localhost:8080/"
        },
        "id": "KzO1eAN8p5Cg",
        "outputId": "d4e41cad-4b8a-4b3b-a119-8ab01d4b0a27"
      },
      "execution_count": 29,
      "outputs": [
        {
          "output_type": "execute_result",
          "data": {
            "text/plain": [
              "((10000, 32, 32, 3), (50000, 1))"
            ]
          },
          "metadata": {},
          "execution_count": 29
        }
      ]
    },
    {
      "cell_type": "code",
      "source": [
        "y_train[:5]"
      ],
      "metadata": {
        "colab": {
          "base_uri": "https://localhost:8080/"
        },
        "id": "OON7zaTEqFLj",
        "outputId": "34e68114-2a8a-4834-eb33-7a440aa9ad3b"
      },
      "execution_count": 30,
      "outputs": [
        {
          "output_type": "execute_result",
          "data": {
            "text/plain": [
              "array([[6],\n",
              "       [9],\n",
              "       [9],\n",
              "       [4],\n",
              "       [1]], dtype=uint8)"
            ]
          },
          "metadata": {},
          "execution_count": 30
        }
      ]
    },
    {
      "cell_type": "markdown",
      "source": [
        "reshaping "
      ],
      "metadata": {
        "id": "VCHyf0V7qNHR"
      }
    },
    {
      "cell_type": "code",
      "source": [
        "y_train = y_train.reshape(-1,)\n",
        "y_train[:5]"
      ],
      "metadata": {
        "colab": {
          "base_uri": "https://localhost:8080/"
        },
        "id": "Hov9-ew5qLAt",
        "outputId": "e3029a31-999a-469f-a35d-36f473518946"
      },
      "execution_count": 31,
      "outputs": [
        {
          "output_type": "execute_result",
          "data": {
            "text/plain": [
              "array([6, 9, 9, 4, 1], dtype=uint8)"
            ]
          },
          "metadata": {},
          "execution_count": 31
        }
      ]
    },
    {
      "cell_type": "code",
      "source": [
        "y_test = y_test.reshape(-1,)"
      ],
      "metadata": {
        "id": "eF36JxpRqMib"
      },
      "execution_count": 32,
      "outputs": []
    },
    {
      "cell_type": "code",
      "source": [
        "classes = [\"airplane\",\"automobile\",\"bird\",\"cat\",\"deer\",\"dog\",\"frog\",\"horse\",\"ship\",\"truck\"]\n",
        "def plot_sample(X, y, index):\n",
        "    plt.figure(figsize = (15,2))\n",
        "    plt.imshow(X[index])\n",
        "    plt.xlabel(classes[y[index]])\n",
        "\n",
        "plot_sample(X_train, y_train, 0)"
      ],
      "metadata": {
        "colab": {
          "base_uri": "https://localhost:8080/",
          "height": 173
        },
        "id": "ouadvSJ9qPoM",
        "outputId": "7cb8047c-3907-448e-95db-b8286d6d65d0"
      },
      "execution_count": 34,
      "outputs": [
        {
          "output_type": "display_data",
          "data": {
            "text/plain": [
              "<Figure size 1080x144 with 1 Axes>"
            ],
            "image/png": "[encoded data removed]"
          },
          "metadata": {
            "needs_background": "light"
          }
        }
      ]
    },
    {
      "cell_type": "code",
      "source": [
        "plot_sample(X_train, y_train, 1)"
      ],
      "metadata": {
        "colab": {
          "base_uri": "https://localhost:8080/",
          "height": 173
        },
        "id": "VOWhG8ryqRF0",
        "outputId": "a136a9a6-c050-4d18-fcee-930bc3e6e776"
      },
      "execution_count": 35,
      "outputs": [
        {
          "output_type": "display_data",
          "data": {
            "text/plain": [
              "<Figure size 1080x144 with 1 Axes>"
            ],
            "image/png": "[encoded data removed]"
          },
          "metadata": {
            "needs_background": "light"
          }
        }
      ]
    },
    {
      "cell_type": "code",
      "source": [
        "X_train = X_train / 255.0\n",
        "X_test = X_test / 255.0\n",
        "\n",
        "cnn = models.Sequential([\n",
        "    layers.Conv2D(filters=32, kernel_size=(3, 3), activation='relu', input_shape=(32, 32, 3)),\n",
        "    layers.MaxPooling2D((2, 2)),\n",
        "    \n",
        "    layers.Conv2D(filters=64, kernel_size=(3, 3), activation='relu'),\n",
        "    layers.MaxPooling2D((2, 2)),\n",
        "    \n",
        "    layers.Flatten(),\n",
        "    layers.Dense(64, activation='relu'),\n",
        "    layers.Dense(10, activation='softmax')\n",
        "])\n",
        "\n",
        "\n",
        "cnn.compile(optimizer='adam',\n",
        "              loss='sparse_categorical_crossentropy',\n",
        "              metrics=['accuracy'])"
      ],
      "metadata": {
        "id": "sMKGFjHkqWWv"
      },
      "execution_count": 36,
      "outputs": []
    },
    {
      "cell_type": "code",
      "source": [
        "cnn.fit(X_train, y_train, epochs=10)"
      ],
      "metadata": {
        "colab": {
          "base_uri": "https://localhost:8080/"
        },
        "id": "KQvMq-cDqcQk",
        "outputId": "b622ac91-a8d6-4244-d3bb-39331fc60108"
      },
      "execution_count": 37,
      "outputs": [
        {
          "output_type": "stream",
          "name": "stdout",
          "text": [
            "Train on 50000 samples\n",
            "Epoch 1/10\n",
            "50000/50000 [==============================] - 7s 143us/sample - loss: 1.4451 - acc: 0.4811\n",
            "Epoch 2/10\n",
            "50000/50000 [==============================] - 8s 159us/sample - loss: 1.0945 - acc: 0.6183\n",
            "Epoch 3/10\n",
            "50000/50000 [==============================] - 7s 144us/sample - loss: 0.9603 - acc: 0.6685\n",
            "Epoch 4/10\n",
            "50000/50000 [==============================] - 7s 147us/sample - loss: 0.8701 - acc: 0.6977\n",
            "Epoch 5/10\n",
            "50000/50000 [==============================] - 6s 118us/sample - loss: 0.7975 - acc: 0.7245\n",
            "Epoch 6/10\n",
            "50000/50000 [==============================] - 6s 114us/sample - loss: 0.7378 - acc: 0.7436\n",
            "Epoch 7/10\n",
            "50000/50000 [==============================] - 6s 114us/sample - loss: 0.6826 - acc: 0.7615\n",
            "Epoch 8/10\n",
            "50000/50000 [==============================] - 6s 113us/sample - loss: 0.6370 - acc: 0.7769\n",
            "Epoch 9/10\n",
            "50000/50000 [==============================] - 6s 115us/sample - loss: 0.5921 - acc: 0.7921\n",
            "Epoch 10/10\n",
            "50000/50000 [==============================] - 6s 115us/sample - loss: 0.5537 - acc: 0.8059\n"
          ]
        },
        {
          "output_type": "execute_result",
          "data": {
            "text/plain": [
              "<keras.callbacks.History at 0x7f47661044d0>"
            ]
          },
          "metadata": {},
          "execution_count": 37
        }
      ]
    },
    {
      "cell_type": "code",
      "source": [
        "cnn.evaluate(X_test,y_test)"
      ],
      "metadata": {
        "colab": {
          "base_uri": "https://localhost:8080/"
        },
        "id": "NEpPPFwmqdk4",
        "outputId": "26eb0f95-ff2e-4cca-c2f0-b3075c645d45"
      },
      "execution_count": 38,
      "outputs": [
        {
          "output_type": "execute_result",
          "data": {
            "text/plain": [
              "[0.897847674369812, 0.7102]"
            ]
          },
          "metadata": {},
          "execution_count": 38
        }
      ]
    },
    {
      "cell_type": "code",
      "source": [
        "y_pred = cnn.predict(X_test)\n",
        "y_pred[:5]"
      ],
      "metadata": {
        "colab": {
          "base_uri": "https://localhost:8080/"
        },
        "id": "Dp6N2ea-qf7w",
        "outputId": "e77f600a-75b3-4de9-e58d-608263f2a161"
      },
      "execution_count": 39,
      "outputs": [
        {
          "output_type": "stream",
          "name": "stderr",
          "text": [
            "/usr/local/lib/python3.7/dist-packages/keras/engine/training_v1.py:2079: UserWarning: `Model.state_updates` will be removed in a future version. This property should not be used in TensorFlow 2.0, as `updates` are applied automatically.\n",
            "  updates=self.state_updates,\n"
          ]
        },
        {
          "output_type": "execute_result",
          "data": {
            "text/plain": [
              "array([[7.61481992e-04, 6.74030525e-05, 2.96022714e-04, 5.06215453e-01,\n",
              "        2.76396342e-04, 4.50215071e-01, 4.13721986e-02, 4.43889912e-05,\n",
              "        3.97844327e-04, 3.53709416e-04],\n",
              "       [5.82329929e-03, 1.24759026e-01, 1.38634664e-06, 7.31314913e-06,\n",
              "        1.23541633e-06, 2.57890690e-07, 6.56780117e-07, 2.39851374e-07,\n",
              "        8.65018249e-01, 4.38833749e-03],\n",
              "       [4.72952835e-02, 3.24743718e-01, 4.38968564e-04, 3.07331420e-03,\n",
              "        2.51780264e-04, 1.05179637e-03, 3.48139904e-03, 7.14948308e-03,\n",
              "        6.00117683e-01, 1.23966122e-02],\n",
              "       [9.25400734e-01, 1.37653323e-02, 4.23663761e-03, 3.80001402e-05,\n",
              "        6.25086133e-04, 1.04708329e-06, 1.17845368e-04, 1.92958083e-07,\n",
              "        5.50669059e-02, 7.48155231e-04],\n",
              "       [2.50323815e-08, 1.99933687e-08, 2.78607477e-03, 2.12444575e-03,\n",
              "        5.18640764e-02, 4.28084168e-05, 9.43181574e-01, 1.42723815e-08,\n",
              "        1.00618820e-06, 8.25943314e-09]], dtype=float32)"
            ]
          },
          "metadata": {},
          "execution_count": 39
        }
      ]
    },
    {
      "cell_type": "code",
      "source": [
        "y_test[:5]"
      ],
      "metadata": {
        "colab": {
          "base_uri": "https://localhost:8080/"
        },
        "id": "DDAFkoTGqhcH",
        "outputId": "fb14a51d-4cf2-4056-ba51-2371ae5ef999"
      },
      "execution_count": 40,
      "outputs": [
        {
          "output_type": "execute_result",
          "data": {
            "text/plain": [
              "array([3, 8, 8, 0, 6], dtype=uint8)"
            ]
          },
          "metadata": {},
          "execution_count": 40
        }
      ]
    },
    {
      "cell_type": "code",
      "source": [
        "plot_sample(X_test, y_test,3)"
      ],
      "metadata": {
        "colab": {
          "base_uri": "https://localhost:8080/",
          "height": 173
        },
        "id": "7l8jv6EOqjW3",
        "outputId": "c90c9a88-02c7-4e55-f698-6c2292962a81"
      },
      "execution_count": 41,
      "outputs": [
        {
          "output_type": "display_data",
          "data": {
            "text/plain": [
              "<Figure size 1080x144 with 1 Axes>"
            ],
            "image/png": "[encoded data removed]"
          },
          "metadata": {
            "needs_background": "light"
          }
        }
      ]
    },
    {
      "cell_type": "code",
      "source": [],
      "metadata": {
        "id": "Jzl4NLjxqkqH"
      },
      "execution_count": null,
      "outputs": []
    }
  ]
}