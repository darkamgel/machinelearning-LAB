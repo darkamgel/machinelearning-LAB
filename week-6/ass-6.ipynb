{
  "cells": [
    {
      "cell_type": "markdown",
      "id": "aab5c4f9",
      "metadata": {
        "id": "aab5c4f9"
      },
      "source": [
        "Name : Sanjeev Kumar Khatri\n",
        "\n",
        "Roll no : 23\n",
        "\n",
        "Group : CS\n",
        "\n",
        "Assignment : 06\n",
        "\n",
        "Githublink : https://github.com/darkamgel/machinelearning-LAB\n",
        "\n",
        "\n",
        "Practical Assignment - 6\n",
        "\n",
        "1. Artificial Neural Networks \n",
        "2. Building a Perceptron based classifier Constructing a \n",
        "single layer neural network \n",
        "3. Constructing a multilayer neural network Building a \n",
        "vector quantizer \n",
        "4. Analyzing sequential data using recurrent neural \n",
        "networks \n",
        "5. Visualizing characters in an Optical Character \n",
        "6. Recognition Building an Optical Character \n",
        "7. Recognition Engine \n",
        "8. Recurrent Neural Network \n",
        "9. Long Short-Term Memory (LSTM) \n",
        "10. Transfer Learning"
      ]
    },
    {
      "cell_type": "markdown",
      "id": "161ff257",
      "metadata": {
        "id": "161ff257"
      },
      "source": [
        "### Perceptron Classifier"
      ]
    },
    {
      "cell_type": "code",
      "execution_count": null,
      "id": "6d7e13fa",
      "metadata": {
        "id": "6d7e13fa"
      },
      "outputs": [],
      "source": [
        "import numpy as np\n",
        "import matplotlib.pyplot as plt\n",
        "import neurolab as nl"
      ]
    },
    {
      "cell_type": "code",
      "execution_count": null,
      "id": "ce45e3c8",
      "metadata": {
        "id": "ce45e3c8"
      },
      "outputs": [],
      "source": [
        "text = np.loadtxt('data_perceptron.txt')"
      ]
    },
    {
      "cell_type": "code",
      "execution_count": null,
      "id": "382a828a",
      "metadata": {
        "id": "382a828a"
      },
      "outputs": [],
      "source": [
        "data = text[:, :2]\n",
        "labels = text[:, 2].reshape((text.shape[0], 1))"
      ]
    },
    {
      "cell_type": "code",
      "execution_count": null,
      "id": "3e6d1b70",
      "metadata": {
        "id": "3e6d1b70",
        "outputId": "c13b0f61-d8fe-4ec1-87a3-2dbbee2d30f2"
      },
      "outputs": [
        {
          "data": {
            "text/plain": [
              "Text(0.5, 1.0, 'Input data')"
            ]
          },
          "execution_count": 4,
          "metadata": {},
          "output_type": "execute_result"
        },
        {
          "data": {
            "image/png": "[encoded data removed]",
            "text/plain": [
              "<Figure size 432x288 with 1 Axes>"
            ]
          },
          "metadata": {
            "needs_background": "light"
          },
          "output_type": "display_data"
        }
      ],
      "source": [
        "plt.figure()\n",
        "plt.scatter(data[:,0], data[:,1])\n",
        "plt.xlabel('Dimension 1')\n",
        "plt.ylabel('Dimension 2')\n",
        "plt.title('Input data')"
      ]
    },
    {
      "cell_type": "code",
      "execution_count": null,
      "id": "88a35c79",
      "metadata": {
        "id": "88a35c79"
      },
      "outputs": [],
      "source": [
        "dim1_min, dim1_max, dim2_min, dim2_max = 0, 1, 0, 1"
      ]
    },
    {
      "cell_type": "code",
      "execution_count": null,
      "id": "5fbe4350",
      "metadata": {
        "id": "5fbe4350"
      },
      "outputs": [],
      "source": [
        "num_output = labels.shape[1]"
      ]
    },
    {
      "cell_type": "code",
      "execution_count": null,
      "id": "4a05ced6",
      "metadata": {
        "id": "4a05ced6"
      },
      "outputs": [],
      "source": [
        "dim1 = [dim1_min, dim1_max]\n",
        "dim2 = [dim2_min, dim2_max]\n",
        "perceptron = nl.net.newp([dim1, dim2], num_output)"
      ]
    },
    {
      "cell_type": "code",
      "execution_count": null,
      "id": "bc15da36",
      "metadata": {
        "id": "bc15da36",
        "outputId": "bc06739b-9670-42da-8197-784c12ed25e0"
      },
      "outputs": [
        {
          "name": "stdout",
          "output_type": "stream",
          "text": [
            "The goal of learning is reached\n"
          ]
        }
      ],
      "source": [
        "error_progress = perceptron.train(data, labels, epochs=100, show=20, lr=0.03)"
      ]
    },
    {
      "cell_type": "code",
      "execution_count": null,
      "id": "e52c7109",
      "metadata": {
        "id": "e52c7109",
        "outputId": "8ee0d415-9129-45d0-9bee-905a110b8cd4"
      },
      "outputs": [
        {
          "data": {
            "image/png": "[encoded data removed]",
            "text/plain": [
              "<Figure size 432x288 with 1 Axes>"
            ]
          },
          "metadata": {
            "needs_background": "light"
          },
          "output_type": "display_data"
        }
      ],
      "source": [
        "plt.figure()\n",
        "plt.plot(error_progress)\n",
        "plt.xlabel('Number of epochs')\n",
        "plt.ylabel('Training error')\n",
        "plt.title('Training error progress')\n",
        "plt.grid()\n",
        "\n",
        "plt.show()"
      ]
    },
    {
      "cell_type": "markdown",
      "id": "bdd0ff6c",
      "metadata": {
        "id": "bdd0ff6c"
      },
      "source": [
        "### Simple Neural Network"
      ]
    },
    {
      "cell_type": "code",
      "execution_count": null,
      "id": "5f9f617b",
      "metadata": {
        "id": "5f9f617b"
      },
      "outputs": [],
      "source": [
        "text = np.loadtxt('data_simple_nn.txt')"
      ]
    },
    {
      "cell_type": "code",
      "execution_count": null,
      "id": "e46b1fa0",
      "metadata": {
        "id": "e46b1fa0"
      },
      "outputs": [],
      "source": [
        "data = text[:, 0:2]\n",
        "labels = text[:, 2:]"
      ]
    },
    {
      "cell_type": "code",
      "execution_count": null,
      "id": "96350887",
      "metadata": {
        "id": "96350887",
        "outputId": "08728108-9845-4002-f917-30b9cf3a6717"
      },
      "outputs": [
        {
          "data": {
            "text/plain": [
              "Text(0.5, 1.0, 'Input data')"
            ]
          },
          "execution_count": 12,
          "metadata": {},
          "output_type": "execute_result"
        },
        {
          "data": {
            "image/png": "[encoded data removed]",
            "text/plain": [
              "<Figure size 432x288 with 1 Axes>"
            ]
          },
          "metadata": {
            "needs_background": "light"
          },
          "output_type": "display_data"
        }
      ],
      "source": [
        "plt.figure()\n",
        "plt.scatter(data[:,0], data[:,1])\n",
        "plt.xlabel('Dimension 1')\n",
        "plt.ylabel('Dimension 2')\n",
        "plt.title('Input data')"
      ]
    },
    {
      "cell_type": "code",
      "execution_count": null,
      "id": "92d4e017",
      "metadata": {
        "id": "92d4e017"
      },
      "outputs": [],
      "source": [
        "dim1_min, dim1_max = data[:,0].min(), data[:,0].max()\n",
        "dim2_min, dim2_max = data[:,1].min(), data[:,1].max()"
      ]
    },
    {
      "cell_type": "code",
      "execution_count": null,
      "id": "31fb957a",
      "metadata": {
        "id": "31fb957a"
      },
      "outputs": [],
      "source": [
        "num_output = labels.shape[1]"
      ]
    },
    {
      "cell_type": "code",
      "execution_count": null,
      "id": "41e61c36",
      "metadata": {
        "id": "41e61c36"
      },
      "outputs": [],
      "source": [
        "dim1 = [dim1_min, dim1_max]\n",
        "dim2 = [dim2_min, dim2_max]\n",
        "nn = nl.net.newp([dim1, dim2], num_output)"
      ]
    },
    {
      "cell_type": "code",
      "execution_count": null,
      "id": "7b307d36",
      "metadata": {
        "id": "7b307d36",
        "outputId": "9054dc9d-710d-4200-9854-b8336d727a7c"
      },
      "outputs": [
        {
          "name": "stdout",
          "output_type": "stream",
          "text": [
            "Epoch: 20; Error: 4.0;\n",
            "Epoch: 40; Error: 4.0;\n",
            "Epoch: 60; Error: 4.0;\n",
            "Epoch: 80; Error: 4.0;\n",
            "Epoch: 100; Error: 4.0;\n",
            "The maximum number of train epochs is reached\n"
          ]
        }
      ],
      "source": [
        "error_progress = nn.train(data, labels, epochs=100, show=20, lr=0.03)"
      ]
    },
    {
      "cell_type": "code",
      "execution_count": null,
      "id": "cb37b639",
      "metadata": {
        "id": "cb37b639",
        "outputId": "449582e7-9905-40ed-a260-434a0d0cafb6"
      },
      "outputs": [
        {
          "data": {
            "image/png": "[encoded data removed]",
            "text/plain": [
              "<Figure size 432x288 with 1 Axes>"
            ]
          },
          "metadata": {
            "needs_background": "light"
          },
          "output_type": "display_data"
        }
      ],
      "source": [
        "plt.figure()\n",
        "plt.plot(error_progress)\n",
        "plt.xlabel('Number of epochs')\n",
        "plt.ylabel('Training error')\n",
        "plt.title('Training error progress')\n",
        "plt.grid()\n",
        "\n",
        "plt.show()"
      ]
    },
    {
      "cell_type": "code",
      "execution_count": null,
      "id": "0a4e8d67",
      "metadata": {
        "id": "0a4e8d67",
        "outputId": "872d8451-a270-4104-cdb2-09045583503a"
      },
      "outputs": [
        {
          "name": "stdout",
          "output_type": "stream",
          "text": [
            "\n",
            "Test results:\n",
            "[0.4, 4.3] --> [0. 0.]\n",
            "[4.4, 0.6] --> [1. 0.]\n",
            "[4.7, 8.1] --> [1. 1.]\n"
          ]
        }
      ],
      "source": [
        "print('\\nTest results:')\n",
        "data_test = [[0.4, 4.3], [4.4, 0.6], [4.7, 8.1]]\n",
        "for item in data_test:\n",
        "    print(item, '-->', nn.sim([item])[0])"
      ]
    },
    {
      "cell_type": "markdown",
      "id": "3822a27b",
      "metadata": {
        "id": "3822a27b"
      },
      "source": [
        "### Multilayer Neural Network"
      ]
    },
    {
      "cell_type": "code",
      "execution_count": null,
      "id": "0ec59f52",
      "metadata": {
        "id": "0ec59f52"
      },
      "outputs": [],
      "source": [
        "min_val = -15\n",
        "max_val = 15\n",
        "num_points = 130\n",
        "x = np.linspace(min_val, max_val, num_points)\n",
        "y = 3 * np.square(x) + 5\n",
        "y /= np.linalg.norm(y)"
      ]
    },
    {
      "cell_type": "code",
      "execution_count": null,
      "id": "8d30b3cc",
      "metadata": {
        "id": "8d30b3cc"
      },
      "outputs": [],
      "source": [
        "data = x.reshape(num_points, 1)\n",
        "labels = y.reshape(num_points, 1)"
      ]
    },
    {
      "cell_type": "code",
      "execution_count": null,
      "id": "207d9725",
      "metadata": {
        "id": "207d9725",
        "outputId": "de495cc5-2e15-483e-bb71-84a6ce233388"
      },
      "outputs": [
        {
          "data": {
            "text/plain": [
              "Text(0.5, 1.0, 'Input data')"
            ]
          },
          "execution_count": 21,
          "metadata": {},
          "output_type": "execute_result"
        },
        {
          "data": {
            "image/png": "[encoded data removed]",
            "text/plain": [
              "<Figure size 432x288 with 1 Axes>"
            ]
          },
          "metadata": {
            "needs_background": "light"
          },
          "output_type": "display_data"
        }
      ],
      "source": [
        "plt.figure()\n",
        "plt.scatter(data, labels)\n",
        "plt.xlabel('Dimension 1')\n",
        "plt.ylabel('Dimension 2')\n",
        "plt.title('Input data')"
      ]
    },
    {
      "cell_type": "code",
      "execution_count": null,
      "id": "8f16a2ea",
      "metadata": {
        "id": "8f16a2ea"
      },
      "outputs": [],
      "source": [
        "nn = nl.net.newff([[min_val, max_val]], [10, 6, 1])"
      ]
    },
    {
      "cell_type": "code",
      "execution_count": null,
      "id": "417e2ba8",
      "metadata": {
        "id": "417e2ba8"
      },
      "outputs": [],
      "source": [
        "nn.trainf = nl.train.train_gd"
      ]
    },
    {
      "cell_type": "code",
      "execution_count": null,
      "id": "a15ead37",
      "metadata": {
        "id": "a15ead37",
        "outputId": "10306dac-09a9-4839-bd02-aaf676d98a9b"
      },
      "outputs": [
        {
          "name": "stdout",
          "output_type": "stream",
          "text": [
            "Epoch: 100; Error: 0.016271863366214813;\n",
            "The goal of learning is reached\n"
          ]
        }
      ],
      "source": [
        "error_progress = nn.train(data, labels, epochs=2000, show=100, goal=0.01)"
      ]
    },
    {
      "cell_type": "code",
      "execution_count": null,
      "id": "e6436e05",
      "metadata": {
        "id": "e6436e05"
      },
      "outputs": [],
      "source": [
        "output = nn.sim(data)\n",
        "y_pred = output.reshape(num_points)"
      ]
    },
    {
      "cell_type": "code",
      "execution_count": null,
      "id": "ad12c914",
      "metadata": {
        "id": "ad12c914",
        "outputId": "ceafc774-6e77-4e21-f08d-1d18b8482d98"
      },
      "outputs": [
        {
          "data": {
            "text/plain": [
              "Text(0.5, 1.0, 'Training error progress')"
            ]
          },
          "execution_count": 26,
          "metadata": {},
          "output_type": "execute_result"
        },
        {
          "data": {
            "image/png": "[encoded data removed]",
            "text/plain": [
              "<Figure size 432x288 with 1 Axes>"
            ]
          },
          "metadata": {
            "needs_background": "light"
          },
          "output_type": "display_data"
        }
      ],
      "source": [
        "plt.figure()\n",
        "plt.plot(error_progress)\n",
        "plt.xlabel('Number of epochs')\n",
        "plt.ylabel('Error')\n",
        "plt.title('Training error progress')"
      ]
    },
    {
      "cell_type": "code",
      "execution_count": null,
      "id": "c8e09d55",
      "metadata": {
        "id": "c8e09d55"
      },
      "outputs": [],
      "source": [
        "x_dense = np.linspace(min_val, max_val, num_points * 2)\n",
        "y_dense_pred = nn.sim(x_dense.reshape(x_dense.size,1)).reshape(x_dense.size)"
      ]
    },
    {
      "cell_type": "code",
      "execution_count": null,
      "id": "9228155b",
      "metadata": {
        "id": "9228155b",
        "outputId": "8c83c45a-02b2-4328-de8e-74b2b009d0f0"
      },
      "outputs": [
        {
          "data": {
            "image/png": "[encoded data removed]",
            "text/plain": [
              "<Figure size 432x288 with 1 Axes>"
            ]
          },
          "metadata": {
            "needs_background": "light"
          },
          "output_type": "display_data"
        }
      ],
      "source": [
        "plt.figure()\n",
        "plt.plot(x_dense, y_dense_pred, '-', x, y, '.', x, y_pred, 'p')\n",
        "plt.title('Actual vs predicted')\n",
        "\n",
        "plt.show()"
      ]
    },
    {
      "cell_type": "markdown",
      "id": "d4dd12eb",
      "metadata": {
        "id": "d4dd12eb"
      },
      "source": [
        "### RNN"
      ]
    },
    {
      "cell_type": "code",
      "execution_count": null,
      "id": "38bec9c1",
      "metadata": {
        "id": "38bec9c1",
        "outputId": "6de9f843-64fb-4f8d-9917-96e750ccede6"
      },
      "outputs": [
        {
          "name": "stdout",
          "output_type": "stream",
          "text": [
            "Epoch: 100; Error: 0.8200189424737971;\n",
            "Epoch: 200; Error: 0.4913509954107294;\n",
            "Epoch: 300; Error: 0.12556230912984695;\n",
            "Epoch: 400; Error: 0.3617425438438355;\n",
            "Epoch: 500; Error: 0.1165803367467904;\n",
            "Epoch: 600; Error: 0.05816942911129123;\n",
            "Epoch: 700; Error: 0.12966939644310432;\n",
            "Epoch: 800; Error: 0.08684811302926251;\n",
            "Epoch: 900; Error: 0.7966416090525865;\n",
            "Epoch: 1000; Error: 0.05539337912145299;\n",
            "Epoch: 1100; Error: 0.1917773064883325;\n",
            "Epoch: 1200; Error: 0.07094640927223625;\n",
            "The maximum number of train epochs is reached\n"
          ]
        },
        {
          "data": {
            "image/png": "[encoded data removed]",
            "text/plain": [
              "<Figure size 432x288 with 2 Axes>"
            ]
          },
          "metadata": {
            "needs_background": "light"
          },
          "output_type": "display_data"
        },
        {
          "data": {
            "image/png": "[encoded data removed]",
            "text/plain": [
              "<Figure size 432x288 with 2 Axes>"
            ]
          },
          "metadata": {
            "needs_background": "light"
          },
          "output_type": "display_data"
        }
      ],
      "source": [
        "def get_data(num_points):\n",
        "    # Create sine waveforms\n",
        "    wave_1 = 0.5 * np.sin(np.arange(0, num_points))\n",
        "    wave_2 = 3.6 * np.sin(np.arange(0, num_points))\n",
        "    wave_3 = 1.1 * np.sin(np.arange(0, num_points))\n",
        "    wave_4 = 4.7 * np.sin(np.arange(0, num_points))\n",
        "\n",
        "    amp_1 = np.ones(num_points)\n",
        "    amp_2 = 2.1 + np.zeros(num_points) \n",
        "    amp_3 = 3.2 * np.ones(num_points) \n",
        "    amp_4 = 0.8 + np.zeros(num_points) \n",
        "\n",
        "    wave = np.array([wave_1, wave_2, wave_3, wave_4]).reshape(num_points * 4, 1)\n",
        "    amp = np.array([[amp_1, amp_2, amp_3, amp_4]]).reshape(num_points * 4, 1)\n",
        "\n",
        "    return wave, amp \n",
        "\n",
        "\n",
        "def visualize_output(nn, num_points_test):\n",
        "    wave, amp = get_data(num_points_test)\n",
        "    output = nn.sim(wave)\n",
        "    plt.plot(amp.reshape(num_points_test * 4))\n",
        "    plt.plot(output.reshape(num_points_test * 4))\n",
        "\n",
        "if __name__=='__main__':\n",
        "\n",
        "    num_points = 40\n",
        "    wave, amp = get_data(num_points)\n",
        "\n",
        "\n",
        "    nn = nl.net.newelm([[-2, 2]], [10, 1], [nl.trans.TanSig(), nl.trans.PureLin()])\n",
        "\n",
        "\n",
        "    nn.layers[0].initf = nl.init.InitRand([-0.1, 0.1], 'wb')\n",
        "    nn.layers[1].initf = nl.init.InitRand([-0.1, 0.1], 'wb')\n",
        "    nn.init()\n",
        "\n",
        "    error_progress = nn.train(wave, amp, epochs=1200, show=100, goal=0.01)\n",
        "\n",
        "    output = nn.sim(wave)\n",
        "\n",
        "    plt.subplot(211)\n",
        "    plt.plot(error_progress)\n",
        "    plt.xlabel('Number of epochs')\n",
        "    plt.ylabel('Error (MSE)')\n",
        "\n",
        "    plt.subplot(212)\n",
        "    plt.plot(amp.reshape(num_points * 4))\n",
        "    plt.plot(output.reshape(num_points * 4))\n",
        "    plt.legend(['Original', 'Predicted'])\n",
        "\n",
        "    plt.figure()\n",
        "\n",
        "    plt.subplot(211)\n",
        "    visualize_output(nn, 82)\n",
        "    plt.xlim([0, 300])\n",
        "\n",
        "    plt.subplot(212)\n",
        "    visualize_output(nn, 49)\n",
        "    plt.xlim([0, 300])\n",
        "\n",
        "    plt.show()"
      ]
    },
    {
      "cell_type": "markdown",
      "id": "d8fab081",
      "metadata": {
        "id": "d8fab081"
      },
      "source": [
        "### OCR"
      ]
    },
    {
      "cell_type": "code",
      "execution_count": null,
      "id": "6818821a",
      "metadata": {
        "id": "6818821a",
        "outputId": "e83d9c16-4153-4a56-eed7-c647e93a1f04"
      },
      "outputs": [
        {
          "name": "stdout",
          "output_type": "stream",
          "text": [
            "Epoch: 100; Error: 52.06010888161946;\n",
            "Epoch: 200; Error: 44.27803047349475;\n",
            "Epoch: 300; Error: 19.617329989000304;\n",
            "Epoch: 400; Error: 19.55870255696333;\n",
            "Epoch: 500; Error: 18.256773821603065;\n",
            "Epoch: 600; Error: 7.437341846630048;\n",
            "Epoch: 700; Error: 5.189487089431291;\n",
            "Epoch: 800; Error: 4.479322693049156;\n",
            "Epoch: 900; Error: 3.8594015559963655;\n",
            "Epoch: 1000; Error: 5.129813689022471;\n",
            "Epoch: 1100; Error: 4.484831579858772;\n",
            "Epoch: 1200; Error: 4.294682056409995;\n",
            "Epoch: 1300; Error: 4.192645427696161;\n",
            "Epoch: 1400; Error: 4.129397409259914;\n",
            "Epoch: 1500; Error: 4.080148128690024;\n",
            "Epoch: 1600; Error: 4.036749267172816;\n",
            "Epoch: 1700; Error: 3.9959391987418393;\n",
            "Epoch: 1800; Error: 3.9553892316594155;\n",
            "Epoch: 1900; Error: 3.912003822448483;\n",
            "Epoch: 2000; Error: 3.8587848023587465;\n",
            "Epoch: 2100; Error: 3.773414763913183;\n",
            "Epoch: 2200; Error: 3.594129383246681;\n",
            "Epoch: 2300; Error: 3.3119442046514886;\n",
            "Epoch: 2400; Error: 4.701792026668626;\n",
            "Epoch: 2500; Error: 3.907760939137487;\n",
            "Epoch: 2600; Error: 3.5667249678903614;\n",
            "Epoch: 2700; Error: 3.1846765976358564;\n",
            "Epoch: 2800; Error: 2.6182884730188856;\n",
            "Epoch: 2900; Error: 2.091200238426909;\n",
            "Epoch: 3000; Error: 1.7817872192540232;\n",
            "Epoch: 3100; Error: 1.3583918382538258;\n",
            "Epoch: 3200; Error: 0.5753681342496728;\n",
            "Epoch: 3300; Error: 0.14216686941644582;\n",
            "Epoch: 3400; Error: 0.05964940162221291;\n",
            "Epoch: 3500; Error: 0.04551365637515244;\n",
            "Epoch: 3600; Error: 0.03761784653113557;\n",
            "Epoch: 3700; Error: 0.030147735833653922;\n",
            "Epoch: 3800; Error: 0.02707459410768686;\n",
            "Epoch: 3900; Error: 0.02581039833839576;\n",
            "Epoch: 4000; Error: 0.024060783509194033;\n",
            "Epoch: 4100; Error: 0.022043474219517384;\n",
            "Epoch: 4200; Error: 0.020485049195145405;\n",
            "Epoch: 4300; Error: 0.019405225832796896;\n",
            "Epoch: 4400; Error: 0.01850595012122499;\n",
            "Epoch: 4500; Error: 0.01761537672441224;\n",
            "Epoch: 4600; Error: 0.016754176434294988;\n",
            "Epoch: 4700; Error: 0.01598773637098115;\n",
            "Epoch: 4800; Error: 0.015327168731568183;\n",
            "Epoch: 4900; Error: 0.01473961721339157;\n",
            "Epoch: 5000; Error: 0.014192542547230224;\n",
            "Epoch: 5100; Error: 0.013675157709680665;\n",
            "Epoch: 5200; Error: 0.013191643045079204;\n",
            "Epoch: 5300; Error: 0.012746492998297157;\n",
            "Epoch: 5400; Error: 0.012337740962895137;\n",
            "Epoch: 5500; Error: 0.011959046273445836;\n",
            "Epoch: 5600; Error: 0.011604381717692704;\n",
            "Epoch: 5700; Error: 0.01127049654735104;\n",
            "Epoch: 5800; Error: 0.010956424208796861;\n",
            "Epoch: 5900; Error: 0.010661777605970651;\n",
            "Epoch: 6000; Error: 0.010385572312530053;\n",
            "Epoch: 6100; Error: 0.010126111428607686;\n",
            "The goal of learning is reached\n",
            "\n",
            "Testing on unknown data:\n",
            "\n",
            "Original: o\n",
            "Predicted: o\n",
            "\n",
            "Original: m\n",
            "Predicted: m\n",
            "\n",
            "Original: m\n",
            "Predicted: m\n",
            "\n",
            "Original: a\n",
            "Predicted: a\n",
            "\n",
            "Original: n\n",
            "Predicted: n\n"
          ]
        }
      ],
      "source": [
        "input_file = 'letter.data'\n",
        "\n",
        "num_datapoints = 50\n",
        "\n",
        "orig_labels = 'omandig'\n",
        "\n",
        "num_orig_labels = len(orig_labels)\n",
        "\n",
        "num_train = int(0.9 * num_datapoints)\n",
        "num_test = num_datapoints - num_train\n",
        "\n",
        "start = 6\n",
        "end = -1\n",
        "\n",
        "data = []\n",
        "labels = []\n",
        "with open(input_file, 'r') as f:\n",
        "    for line in f.readlines():\n",
        "\n",
        "        list_vals = line.split('\\t')\n",
        "\n",
        "        if list_vals[1] not in orig_labels:\n",
        "            continue\n",
        "\n",
        "        label = np.zeros((num_orig_labels, 1))\n",
        "        label[orig_labels.index(list_vals[1])] = 1\n",
        "        labels.append(label)\n",
        "\n",
        "        cur_char = np.array([float(x) for x in list_vals[start:end]])\n",
        "        data.append(cur_char)\n",
        "\n",
        "        if len(data) >= num_datapoints:\n",
        "            break\n",
        "\n",
        "data = np.asfarray(data)\n",
        "labels = np.array(labels).reshape(num_datapoints, num_orig_labels)\n",
        "\n",
        "num_dims = len(data[0])\n",
        "\n",
        "nn = nl.net.newff([[0, 1] for _ in range(len(data[0]))], \n",
        "        [128, 16, num_orig_labels])\n",
        "\n",
        "nn.trainf = nl.train.train_gd\n",
        "\n",
        "error_progress = nn.train(data[:num_train,:], labels[:num_train,:], \n",
        "        epochs=10000, show=100, goal=0.01)\n",
        "\n",
        "print('\\nTesting on unknown data:')\n",
        "predicted_test = nn.sim(data[num_train:, :])\n",
        "for i in range(num_test):\n",
        "    print('\\nOriginal:', orig_labels[np.argmax(labels[i])])\n",
        "    print('Predicted:', orig_labels[np.argmax(predicted_test[i])])"
      ]
    },
    {
      "cell_type": "markdown",
      "id": "7a948b3d",
      "metadata": {
        "id": "7a948b3d"
      },
      "source": [
        "### Vector Quantizer"
      ]
    },
    {
      "cell_type": "code",
      "execution_count": null,
      "id": "09f31fdc",
      "metadata": {
        "id": "09f31fdc"
      },
      "outputs": [],
      "source": [
        "text = np.loadtxt('data_vector_quantization.txt')"
      ]
    },
    {
      "cell_type": "code",
      "execution_count": null,
      "id": "6ca8e38d",
      "metadata": {
        "id": "6ca8e38d"
      },
      "outputs": [],
      "source": [
        "data = text[:, 0:2]\n",
        "labels = text[:, 2:]"
      ]
    },
    {
      "cell_type": "code",
      "execution_count": null,
      "id": "e94e80b9",
      "metadata": {
        "id": "e94e80b9"
      },
      "outputs": [],
      "source": [
        "num_input_neurons = 10\n",
        "num_output_neurons = 4\n",
        "weights = [1/num_output_neurons] * num_output_neurons\n",
        "nn = nl.net.newlvq(nl.tool.minmax(data), num_input_neurons, weights)"
      ]
    },
    {
      "cell_type": "code",
      "execution_count": null,
      "id": "79eaf2c6",
      "metadata": {
        "id": "79eaf2c6",
        "outputId": "ff74c7bf-2efc-4bb1-bbd0-a646875ff0f6"
      },
      "outputs": [
        {
          "name": "stdout",
          "output_type": "stream",
          "text": [
            "Epoch: 100; Error: 0.0;\n",
            "Epoch: 200; Error: 0.0;\n",
            "Epoch: 300; Error: 0.0;\n",
            "Epoch: 400; Error: 0.0;\n",
            "Epoch: 500; Error: 0.0;\n",
            "The maximum number of train epochs is reached\n"
          ]
        },
        {
          "data": {
            "image/png": "[encoded data removed]",
            "text/plain": [
              "<Figure size 432x288 with 1 Axes>"
            ]
          },
          "metadata": {
            "needs_background": "light"
          },
          "output_type": "display_data"
        }
      ],
      "source": [
        "_ = nn.train(data, labels, epochs=500, goal=-1)\n",
        "\n",
        "xx, yy = np.meshgrid(np.arange(0, 10, 0.2), np.arange(0, 10, 0.2))\n",
        "xx.shape = xx.size, 1\n",
        "yy.shape = yy.size, 1\n",
        "grid_xy = np.concatenate((xx, yy), axis=1)\n",
        "\n",
        "grid_eval = nn.sim(grid_xy)\n",
        "\n",
        "\n",
        "class_1 = data[labels[:,0] == 1]\n",
        "class_2 = data[labels[:,1] == 1]\n",
        "class_3 = data[labels[:,2] == 1]\n",
        "class_4 = data[labels[:,3] == 1]\n",
        "\n",
        "grid_1 = grid_xy[grid_eval[:,0] == 1]\n",
        "grid_2 = grid_xy[grid_eval[:,1] == 1]\n",
        "grid_3 = grid_xy[grid_eval[:,2] == 1]\n",
        "grid_4 = grid_xy[grid_eval[:,3] == 1]\n",
        "\n",
        "plt.plot(class_1[:,0], class_1[:,1], 'ko', \n",
        "        class_2[:,0], class_2[:,1], 'ko', \n",
        "        class_3[:,0], class_3[:,1], 'ko', \n",
        "        class_4[:,0], class_4[:,1], 'ko')\n",
        "plt.plot(grid_1[:,0], grid_1[:,1], 'm.',\n",
        "        grid_2[:,0], grid_2[:,1], 'bx',\n",
        "        grid_3[:,0], grid_3[:,1], 'c^', \n",
        "        grid_4[:,0], grid_4[:,1], 'y+')\n",
        "plt.axis([0, 10, 0, 10])\n",
        "plt.xlabel('Dimension 1')\n",
        "plt.ylabel('Dimension 2')\n",
        "plt.title('Vector quantization')\n",
        "\n",
        "plt.show()"
      ]
    },
    {
      "cell_type": "markdown",
      "id": "0a46d8d5",
      "metadata": {
        "id": "0a46d8d5"
      },
      "source": [
        "### Transfer Learning"
      ]
    },
    {
      "cell_type": "code",
      "execution_count": null,
      "id": "2f9fa3d4",
      "metadata": {
        "id": "2f9fa3d4"
      },
      "outputs": [],
      "source": [
        "np.random.seed(2017)  \n",
        "\n",
        "from keras.datasets import mnist\n",
        "from tensorflow.python.keras.models import Sequential\n",
        "from tensorflow.python.keras.layers import Dense, Dropout, Activation, Flatten\n",
        "from tensorflow.python.keras.layers import Convolution2D, MaxPooling2D\n",
        "from tensorflow.python.keras.utils import np_utils\n",
        "from tensorflow.python.keras import backend as K"
      ]
    },
    {
      "cell_type": "code",
      "execution_count": null,
      "id": "8e2a118d",
      "metadata": {
        "id": "8e2a118d"
      },
      "outputs": [],
      "source": [
        "batch_size = 128\n",
        "nb_classes = 5\n",
        "nb_epoch = 5\n",
        "\n",
        "img_rows, img_cols = 28, 28\n",
        "\n",
        "nb_filters = 32\n",
        "\n",
        "pool_size = 2\n",
        "\n",
        "kernel_size = 3\n",
        "\n",
        "input_shape = (img_rows, img_cols, 1)"
      ]
    },
    {
      "cell_type": "code",
      "execution_count": null,
      "id": "23f37a37",
      "metadata": {
        "id": "23f37a37"
      },
      "outputs": [],
      "source": [
        "\n",
        "(X_train, y_train), (X_test, y_test) = mnist.load_data()\n",
        "\n",
        "X_train_lt5 = X_train[y_train < 5]\n",
        "y_train_lt5 = y_train[y_train < 5]\n",
        "X_test_lt5 = X_test[y_test < 5]\n",
        "y_test_lt5 = y_test[y_test < 5]\n",
        "\n",
        "X_train_gte5 = X_train[y_train >= 5]\n",
        "y_train_gte5 = y_train[y_train >= 5] - 5  \n",
        "X_test_gte5 = X_test[y_test >= 5]         \n",
        "y_test_gte5 = y_test[y_test >= 5] - 5"
      ]
    },
    {
      "cell_type": "code",
      "execution_count": null,
      "id": "fecdc703",
      "metadata": {
        "id": "fecdc703"
      },
      "outputs": [],
      "source": [
        "def train_model(model, train, test, nb_classes):\n",
        "    X_train = train[0].reshape((train[0].shape[0],) + input_shape)\n",
        "    X_test = test[0].reshape((test[0].shape[0],) + input_shape)\n",
        "    X_train = X_train.astype('float32')\n",
        "    X_test = X_test.astype('float32')\n",
        "    X_train /= 255\n",
        "    X_test /= 255\n",
        "    print('X_train shape:', X_train.shape)\n",
        "    print(X_train.shape[0], 'train samples')\n",
        "    print(X_test.shape[0], 'test samples')\n",
        "\n",
        "    Y_train = np_utils.to_categorical(train[1], nb_classes)\n",
        "    Y_test = np_utils.to_categorical(test[1], nb_classes)\n",
        "\n",
        "    model.compile(loss='categorical_crossentropy',\n",
        "                  optimizer='adadelta',\n",
        "                  metrics=['accuracy'])\n",
        "\n",
        "    model.fit(X_train, Y_train,\n",
        "              batch_size=batch_size, epochs=nb_epoch,\n",
        "              verbose=1,\n",
        "              validation_data=(X_test, Y_test))\n",
        "    score = model.evaluate(X_test, Y_test, verbose=0)\n",
        "    print('Test score:', score[0])\n",
        "    print('Test accuracy:', score[1])"
      ]
    },
    {
      "cell_type": "code",
      "execution_count": null,
      "id": "74b496b4",
      "metadata": {
        "id": "74b496b4",
        "outputId": "0f5ef1c5-a849-4b72-e7f0-902447ec9072"
      },
      "outputs": [
        {
          "name": "stdout",
          "output_type": "stream",
          "text": [
            "X_train shape: (30596, 28, 28, 1)\n",
            "30596 train samples\n",
            "5139 test samples\n",
            "Epoch 1/5\n",
            "240/240 [==============================] - 2s 7ms/step - loss: 1.6180 - accuracy: 0.1921 - val_loss: 1.6145 - val_accuracy: 0.1969\n",
            "Epoch 2/5\n",
            "240/240 [==============================] - 1s 6ms/step - loss: 1.6165 - accuracy: 0.1931 - val_loss: 1.6133 - val_accuracy: 0.1981\n",
            "Epoch 3/5\n",
            "240/240 [==============================] - 1s 5ms/step - loss: 1.6152 - accuracy: 0.1958 - val_loss: 1.6121 - val_accuracy: 0.1985\n",
            "Epoch 4/5\n",
            "240/240 [==============================] - 1s 6ms/step - loss: 1.6139 - accuracy: 0.1969 - val_loss: 1.6109 - val_accuracy: 0.1996\n",
            "Epoch 5/5\n",
            "240/240 [==============================] - 1s 6ms/step - loss: 1.6129 - accuracy: 0.1983 - val_loss: 1.6097 - val_accuracy: 0.2000\n",
            "Test score: 1.6097229719161987\n",
            "Test accuracy: 0.20003892481327057\n"
          ]
        }
      ],
      "source": [
        "feature_layers = [\n",
        "    Convolution2D(nb_filters, kernel_size, kernel_size,\n",
        "                  padding='valid',\n",
        "                  input_shape=input_shape),\n",
        "    Activation('relu'),\n",
        "    Convolution2D(nb_filters, kernel_size, kernel_size),\n",
        "    Activation('relu'),\n",
        "    MaxPooling2D(pool_size=(pool_size, pool_size)),\n",
        "    Dropout(0.25),\n",
        "    Flatten(),\n",
        "]\n",
        "classification_layers = [\n",
        "    Dense(128),\n",
        "    Activation('relu'),\n",
        "    Dropout(0.5),\n",
        "    Dense(nb_classes),\n",
        "    Activation('softmax')\n",
        "]\n",
        "\n",
        "model = Sequential(feature_layers + classification_layers)\n",
        "\n",
        "train_model(model, (X_train_lt5, y_train_lt5), (X_test_lt5, y_test_lt5), nb_classes)"
      ]
    },
    {
      "cell_type": "code",
      "execution_count": null,
      "id": "dff11af2",
      "metadata": {
        "id": "dff11af2",
        "outputId": "e773c2eb-a880-4cb6-87f5-ca4a4e683a45"
      },
      "outputs": [
        {
          "name": "stdout",
          "output_type": "stream",
          "text": [
            "X_train shape: (29404, 28, 28, 1)\n",
            "29404 train samples\n",
            "4861 test samples\n",
            "Epoch 1/5\n",
            "230/230 [==============================] - 1s 4ms/step - loss: 1.6129 - accuracy: 0.1925 - val_loss: 1.6100 - val_accuracy: 0.1938\n",
            "Epoch 2/5\n",
            "230/230 [==============================] - 1s 3ms/step - loss: 1.6121 - accuracy: 0.1988 - val_loss: 1.6096 - val_accuracy: 0.1950\n",
            "Epoch 3/5\n",
            "230/230 [==============================] - 1s 3ms/step - loss: 1.6123 - accuracy: 0.1992 - val_loss: 1.6093 - val_accuracy: 0.1967\n",
            "Epoch 4/5\n",
            "230/230 [==============================] - 1s 3ms/step - loss: 1.6123 - accuracy: 0.1986 - val_loss: 1.6089 - val_accuracy: 0.1983\n",
            "Epoch 5/5\n",
            "230/230 [==============================] - 1s 3ms/step - loss: 1.6117 - accuracy: 0.1995 - val_loss: 1.6086 - val_accuracy: 0.1991\n",
            "Test score: 1.6085554361343384\n",
            "Test accuracy: 0.19913597404956818\n"
          ]
        }
      ],
      "source": [
        "for layer in feature_layers:\n",
        "    layer.trainable = False\n",
        "train_model(model, (X_train_gte5, y_train_gte5), (X_test_gte5, y_test_gte5), nb_classes)"
      ]
    },
    {
      "cell_type": "markdown",
      "id": "74254447",
      "metadata": {
        "id": "74254447"
      },
      "source": [
        "### LSTM"
      ]
    },
    {
      "cell_type": "code",
      "execution_count": null,
      "id": "b99353e6",
      "metadata": {
        "id": "b99353e6",
        "outputId": "8ade05e9-0f58-403a-ae6f-1c9ec2d1b9f0"
      },
      "outputs": [
        {
          "name": "stdout",
          "output_type": "stream",
          "text": [
            "Loading data...\n",
            "WARNING:tensorflow:The `nb_words` argument in `load_data` has been renamed `num_words`.\n",
            "25000 train sequences\n",
            "25000 test sequences\n",
            "Pad sequences (samples x time)\n",
            "X_train shape: (25000, 80)\n",
            "X_test shape: (25000, 80)\n"
          ]
        }
      ],
      "source": [
        "from keras.datasets import imdb\n",
        "from keras.preprocessing import sequence\n",
        "from keras.utils import pad_sequences\n",
        "\n",
        "\n",
        "max_features = 20000\n",
        "maxlen = 80  \n",
        "batch_size = 32\n",
        "\n",
        "print('Loading data...')\n",
        "(X_train, y_train), (X_test, y_test) = imdb.load_data(nb_words=max_features)\n",
        "print(len(X_train), 'train sequences')\n",
        "print(len(X_test), 'test sequences')\n",
        "\n",
        "print('Pad sequences (samples x time)')\n",
        "X_train = pad_sequences(X_train, maxlen=maxlen)\n",
        "X_test = pad_sequences(X_test, maxlen=maxlen)\n",
        "print('X_train shape:', X_train.shape)\n",
        "print('X_test shape:', X_test.shape)"
      ]
    },
    {
      "cell_type": "code",
      "execution_count": null,
      "id": "c7e772d7",
      "metadata": {
        "id": "c7e772d7"
      },
      "outputs": [],
      "source": [
        "from keras.layers import Dense, Activation, Embedding\n",
        "from keras.layers import LSTM\n",
        "\n",
        "model = Sequential()\n",
        "model.add(Embedding(max_features, 128))\n",
        "model.add(Dropout(0.2))\n",
        "model.add(LSTM(128, dropout=0.2)) \n",
        "model.add(Dense(1))\n",
        "model.add(Activation('sigmoid'))\n",
        "\n",
        "\n",
        "model.compile(loss='binary_crossentropy', optimizer='adam', metrics=['accuracy'])"
      ]
    },
    {
      "cell_type": "code",
      "execution_count": null,
      "id": "2ff7cf51",
      "metadata": {
        "id": "2ff7cf51",
        "outputId": "128a56a8-e3f1-409f-e603-22f812855e21"
      },
      "outputs": [
        {
          "name": "stdout",
          "output_type": "stream",
          "text": [
            "Epoch 1/5\n",
            "782/782 [==============================] - 92s 115ms/step - loss: 0.4379 - accuracy: 0.7884 - val_loss: 0.3646 - val_accuracy: 0.8413\n",
            "Epoch 2/5\n",
            "782/782 [==============================] - 88s 113ms/step - loss: 0.2625 - accuracy: 0.8933 - val_loss: 0.3959 - val_accuracy: 0.8303\n",
            "Epoch 3/5\n",
            "782/782 [==============================] - 90s 114ms/step - loss: 0.1771 - accuracy: 0.9328 - val_loss: 0.4171 - val_accuracy: 0.8262\n",
            "Epoch 4/5\n",
            "782/782 [==============================] - 94s 120ms/step - loss: 0.1202 - accuracy: 0.9568 - val_loss: 0.5060 - val_accuracy: 0.8277\n",
            "Epoch 5/5\n",
            "782/782 [==============================] - 93s 119ms/step - loss: 0.0807 - accuracy: 0.9714 - val_loss: 0.5931 - val_accuracy: 0.8280\n"
          ]
        },
        {
          "data": {
            "text/plain": [
              "<tensorflow.python.keras.callbacks.History at 0x255a08101c0>"
            ]
          },
          "execution_count": 50,
          "metadata": {},
          "output_type": "execute_result"
        }
      ],
      "source": [
        "model.fit(X_train, y_train, batch_size=batch_size, epochs=5, validation_data=(X_test, y_test))"
      ]
    },
    {
      "cell_type": "code",
      "execution_count": null,
      "id": "1a5fd102",
      "metadata": {
        "id": "1a5fd102",
        "outputId": "b4c43aec-6471-4eaa-d601-efaf6ba42239"
      },
      "outputs": [
        {
          "name": "stdout",
          "output_type": "stream",
          "text": [
            "782/782 [==============================] - 20s 25ms/step - loss: 0.0411 - accuracy: 0.9880\n",
            "782/782 [==============================] - 19s 24ms/step - loss: 0.5931 - accuracy: 0.8280\n",
            "Train score: 0.04113420471549034\n",
            "Train accuracy: 0.9880399703979492\n",
            "Test score: 0.593148410320282\n",
            "Test accuracy: 0.8279600143432617\n"
          ]
        }
      ],
      "source": [
        "train_score, train_acc = model.evaluate(X_train, y_train, batch_size=batch_size)\n",
        "test_score, test_acc = model.evaluate(X_test, y_test, batch_size=batch_size)\n",
        "\n",
        "print ('Train score:', train_score)\n",
        "print ('Train accuracy:', train_acc)\n",
        "\n",
        "print ('Test score:', test_score)\n",
        "print ('Test accuracy:', test_acc)"
      ]
    }
  ],
  "metadata": {
    "colab": {
      "provenance": []
    },
    "kernelspec": {
      "display_name": "Python 3 (ipykernel)",
      "language": "python",
      "name": "python3"
    },
    "language_info": {
      "codemirror_mode": {
        "name": "ipython",
        "version": 3
      },
      "file_extension": ".py",
      "mimetype": "text/x-python",
      "name": "python",
      "nbconvert_exporter": "python",
      "pygments_lexer": "ipython3",
      "version": "3.9.12"
    }
  },
  "nbformat": 4,
  "nbformat_minor": 5
}
